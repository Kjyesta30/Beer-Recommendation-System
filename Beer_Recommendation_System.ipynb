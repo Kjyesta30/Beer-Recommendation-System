{
  "nbformat": 4,
  "nbformat_minor": 0,
  "metadata": {
    "colab": {
      "name": "Beer_Recommendation_System",
      "provenance": []
    },
    "kernelspec": {
      "name": "python3",
      "display_name": "Python 3"
    }
  },
  "cells": [
    {
      "cell_type": "markdown",
      "metadata": {
        "id": "avGWBoMQJSE8"
      },
      "source": [
        "# **BEER RECOMMENDATION SYSTEM**"
      ]
    },
    {
      "cell_type": "markdown",
      "metadata": {
        "id": "WzhQXoUAJdjl"
      },
      "source": [
        "A recommender system allows you to provide personalized recommendations to users. With this beer recommendation system, model can make recommendations to users.\n",
        "\n",
        "The dataset is taken from the below link : https://www.kaggle.com/sachinkun21/beer-datacsv"
      ]
    },
    {
      "cell_type": "code",
      "metadata": {
        "id": "_j5hfIOocZ7w"
      },
      "source": [
        "# Importing Libraries       \n",
        "import numpy as np   \n",
        "import pandas as pd\n",
        "import matplotlib.pyplot as plt\n",
        "import seaborn as sns"
      ],
      "execution_count": null,
      "outputs": []
    },
    {
      "cell_type": "code",
      "metadata": {
        "id": "yvtQIpLddIPX"
      },
      "source": [
        "#Loading Dataset\n",
        "beer_data = pd.read_csv(\"beer_data.csv\")"
      ],
      "execution_count": null,
      "outputs": []
    },
    {
      "cell_type": "code",
      "metadata": {
        "colab": {
          "base_uri": "https://localhost:8080/"
        },
        "id": "RwYAvKBIS3nH",
        "outputId": "e6e83c9c-4f7e-4c40-e39b-97d5861d7836"
      },
      "source": [
        "#Shape of the data\n",
        "beer_data.shape"
      ],
      "execution_count": null,
      "outputs": [
        {
          "output_type": "execute_result",
          "data": {
            "text/plain": [
              "(475984, 3)"
            ]
          },
          "metadata": {
            "tags": []
          },
          "execution_count": 35
        }
      ]
    },
    {
      "cell_type": "code",
      "metadata": {
        "colab": {
          "base_uri": "https://localhost:8080/",
          "height": 359
        },
        "id": "Ias7NiG6dON5",
        "outputId": "0f85636b-aca1-4e85-b6d5-20fd21125240"
      },
      "source": [
        "#Checking first few rows of the data\n",
        "beer_data.head(10)"
      ],
      "execution_count": null,
      "outputs": [
        {
          "output_type": "execute_result",
          "data": {
            "text/html": [
              "<div>\n",
              "<style scoped>\n",
              "    .dataframe tbody tr th:only-of-type {\n",
              "        vertical-align: middle;\n",
              "    }\n",
              "\n",
              "    .dataframe tbody tr th {\n",
              "        vertical-align: top;\n",
              "    }\n",
              "\n",
              "    .dataframe thead th {\n",
              "        text-align: right;\n",
              "    }\n",
              "</style>\n",
              "<table border=\"1\" class=\"dataframe\">\n",
              "  <thead>\n",
              "    <tr style=\"text-align: right;\">\n",
              "      <th></th>\n",
              "      <th>beer_beerid</th>\n",
              "      <th>review_profilename</th>\n",
              "      <th>review_overall</th>\n",
              "    </tr>\n",
              "  </thead>\n",
              "  <tbody>\n",
              "    <tr>\n",
              "      <th>0</th>\n",
              "      <td>48215</td>\n",
              "      <td>stcules</td>\n",
              "      <td>3.0</td>\n",
              "    </tr>\n",
              "    <tr>\n",
              "      <th>1</th>\n",
              "      <td>52159</td>\n",
              "      <td>oline73</td>\n",
              "      <td>3.0</td>\n",
              "    </tr>\n",
              "    <tr>\n",
              "      <th>2</th>\n",
              "      <td>52159</td>\n",
              "      <td>alpinebryant</td>\n",
              "      <td>3.0</td>\n",
              "    </tr>\n",
              "    <tr>\n",
              "      <th>3</th>\n",
              "      <td>52159</td>\n",
              "      <td>rawthar</td>\n",
              "      <td>4.0</td>\n",
              "    </tr>\n",
              "    <tr>\n",
              "      <th>4</th>\n",
              "      <td>52159</td>\n",
              "      <td>RangerClegg</td>\n",
              "      <td>3.5</td>\n",
              "    </tr>\n",
              "    <tr>\n",
              "      <th>5</th>\n",
              "      <td>58046</td>\n",
              "      <td>mikedrinksbeer2</td>\n",
              "      <td>4.5</td>\n",
              "    </tr>\n",
              "    <tr>\n",
              "      <th>6</th>\n",
              "      <td>58046</td>\n",
              "      <td>dbmernin83</td>\n",
              "      <td>4.0</td>\n",
              "    </tr>\n",
              "    <tr>\n",
              "      <th>7</th>\n",
              "      <td>58046</td>\n",
              "      <td>Blakaeris</td>\n",
              "      <td>4.5</td>\n",
              "    </tr>\n",
              "    <tr>\n",
              "      <th>8</th>\n",
              "      <td>58046</td>\n",
              "      <td>bashiba</td>\n",
              "      <td>4.5</td>\n",
              "    </tr>\n",
              "    <tr>\n",
              "      <th>9</th>\n",
              "      <td>58046</td>\n",
              "      <td>oberon</td>\n",
              "      <td>4.0</td>\n",
              "    </tr>\n",
              "  </tbody>\n",
              "</table>\n",
              "</div>"
            ],
            "text/plain": [
              "   beer_beerid review_profilename  review_overall\n",
              "0        48215            stcules             3.0\n",
              "1        52159            oline73             3.0\n",
              "2        52159       alpinebryant             3.0\n",
              "3        52159            rawthar             4.0\n",
              "4        52159        RangerClegg             3.5\n",
              "5        58046    mikedrinksbeer2             4.5\n",
              "6        58046         dbmernin83             4.0\n",
              "7        58046          Blakaeris             4.5\n",
              "8        58046            bashiba             4.5\n",
              "9        58046             oberon             4.0"
            ]
          },
          "metadata": {
            "tags": []
          },
          "execution_count": 36
        }
      ]
    },
    {
      "cell_type": "code",
      "metadata": {
        "colab": {
          "base_uri": "https://localhost:8080/",
          "height": 297
        },
        "id": "oR14TWn7dhBt",
        "outputId": "595b5ae5-8afd-47bf-c1ad-9ea4a8c4432c"
      },
      "source": [
        "beer_data.describe()"
      ],
      "execution_count": null,
      "outputs": [
        {
          "output_type": "execute_result",
          "data": {
            "text/html": [
              "<div>\n",
              "<style scoped>\n",
              "    .dataframe tbody tr th:only-of-type {\n",
              "        vertical-align: middle;\n",
              "    }\n",
              "\n",
              "    .dataframe tbody tr th {\n",
              "        vertical-align: top;\n",
              "    }\n",
              "\n",
              "    .dataframe thead th {\n",
              "        text-align: right;\n",
              "    }\n",
              "</style>\n",
              "<table border=\"1\" class=\"dataframe\">\n",
              "  <thead>\n",
              "    <tr style=\"text-align: right;\">\n",
              "      <th></th>\n",
              "      <th>beer_beerid</th>\n",
              "      <th>review_overall</th>\n",
              "    </tr>\n",
              "  </thead>\n",
              "  <tbody>\n",
              "    <tr>\n",
              "      <th>count</th>\n",
              "      <td>475984.000000</td>\n",
              "      <td>475984.000000</td>\n",
              "    </tr>\n",
              "    <tr>\n",
              "      <th>mean</th>\n",
              "      <td>21660.550611</td>\n",
              "      <td>3.814827</td>\n",
              "    </tr>\n",
              "    <tr>\n",
              "      <th>std</th>\n",
              "      <td>21793.437326</td>\n",
              "      <td>0.720411</td>\n",
              "    </tr>\n",
              "    <tr>\n",
              "      <th>min</th>\n",
              "      <td>3.000000</td>\n",
              "      <td>0.000000</td>\n",
              "    </tr>\n",
              "    <tr>\n",
              "      <th>25%</th>\n",
              "      <td>1716.000000</td>\n",
              "      <td>3.500000</td>\n",
              "    </tr>\n",
              "    <tr>\n",
              "      <th>50%</th>\n",
              "      <td>13892.000000</td>\n",
              "      <td>4.000000</td>\n",
              "    </tr>\n",
              "    <tr>\n",
              "      <th>75%</th>\n",
              "      <td>39397.000000</td>\n",
              "      <td>4.500000</td>\n",
              "    </tr>\n",
              "    <tr>\n",
              "      <th>max</th>\n",
              "      <td>77317.000000</td>\n",
              "      <td>5.000000</td>\n",
              "    </tr>\n",
              "  </tbody>\n",
              "</table>\n",
              "</div>"
            ],
            "text/plain": [
              "         beer_beerid  review_overall\n",
              "count  475984.000000   475984.000000\n",
              "mean    21660.550611        3.814827\n",
              "std     21793.437326        0.720411\n",
              "min         3.000000        0.000000\n",
              "25%      1716.000000        3.500000\n",
              "50%     13892.000000        4.000000\n",
              "75%     39397.000000        4.500000\n",
              "max     77317.000000        5.000000"
            ]
          },
          "metadata": {
            "tags": []
          },
          "execution_count": 37
        }
      ]
    },
    {
      "cell_type": "markdown",
      "metadata": {
        "id": "ysjypvgldlB8"
      },
      "source": [
        "**The average rating for these beers is 3.81**"
      ]
    },
    {
      "cell_type": "code",
      "metadata": {
        "colab": {
          "base_uri": "https://localhost:8080/"
        },
        "id": "7I3uIs5RdjTt",
        "outputId": "116670fb-fe9c-4025-8286-8cc44cdd5432"
      },
      "source": [
        "#Checking count of ratings for each rating given\n",
        "beer_data.review_overall.value_counts()"
      ],
      "execution_count": null,
      "outputs": [
        {
          "output_type": "execute_result",
          "data": {
            "text/plain": [
              "4.0    174804\n",
              "4.5     97349\n",
              "3.5     90804\n",
              "3.0     49523\n",
              "5.0     27176\n",
              "2.5     17601\n",
              "2.0     11615\n",
              "1.5      3817\n",
              "1.0      3289\n",
              "0.0         6\n",
              "Name: review_overall, dtype: int64"
            ]
          },
          "metadata": {
            "tags": []
          },
          "execution_count": 38
        }
      ]
    },
    {
      "cell_type": "markdown",
      "metadata": {
        "id": "YqolIrXeKpge"
      },
      "source": [
        "**Handling Null Data**"
      ]
    },
    {
      "cell_type": "code",
      "metadata": {
        "colab": {
          "base_uri": "https://localhost:8080/"
        },
        "id": "XmHlHB_ZhOIX",
        "outputId": "f0d24472-b22d-4781-b625-92d33a570947"
      },
      "source": [
        "#Checking the review_profilename null rows\n",
        "beer_data.loc[beer_data.review_profilename.isnull()].count()"
      ],
      "execution_count": null,
      "outputs": [
        {
          "output_type": "execute_result",
          "data": {
            "text/plain": [
              "beer_beerid           100\n",
              "review_profilename      0\n",
              "review_overall        100\n",
              "dtype: int64"
            ]
          },
          "metadata": {
            "tags": []
          },
          "execution_count": 39
        }
      ]
    },
    {
      "cell_type": "code",
      "metadata": {
        "id": "G_0wKjsphaQ0"
      },
      "source": [
        "#since very small no. of rows for null values so removing those\n",
        "beer_data = beer_data[~beer_data.review_profilename.isnull()]"
      ],
      "execution_count": null,
      "outputs": []
    },
    {
      "cell_type": "markdown",
      "metadata": {
        "id": "a3U4nDHTK4E9"
      },
      "source": [
        "**Handling Duplicate Data values**"
      ]
    },
    {
      "cell_type": "code",
      "metadata": {
        "colab": {
          "base_uri": "https://localhost:8080/"
        },
        "id": "cPv5xjR-jOLH",
        "outputId": "8693c146-f910-4a8b-f414-6446123e0be1"
      },
      "source": [
        "#Checking duplicate values\n",
        "beer_data.duplicated().sum()"
      ],
      "execution_count": null,
      "outputs": [
        {
          "output_type": "execute_result",
          "data": {
            "text/plain": [
              "580"
            ]
          },
          "metadata": {
            "tags": []
          },
          "execution_count": 41
        }
      ]
    },
    {
      "cell_type": "code",
      "metadata": {
        "id": "iQWetoXMii7E"
      },
      "source": [
        "#Dropping duplicate values\n",
        "beer_data.drop_duplicates(keep = 'first', inplace = True)"
      ],
      "execution_count": null,
      "outputs": []
    },
    {
      "cell_type": "markdown",
      "metadata": {
        "id": "Ms2V7wSyognx"
      },
      "source": [
        "**Analysing number of beers with number of ratings of given**"
      ]
    },
    {
      "cell_type": "code",
      "metadata": {
        "id": "xZNmnFi8jJNV"
      },
      "source": [
        "reviews_count_beer_id = beer_data.groupby('beer_beerid').review_overall.count().to_frame('Reviews_count').sort_values(by = \"Reviews_count\", ascending=False)"
      ],
      "execution_count": null,
      "outputs": []
    },
    {
      "cell_type": "code",
      "metadata": {
        "colab": {
          "base_uri": "https://localhost:8080/",
          "height": 173
        },
        "id": "wJwO-ljXjpWH",
        "outputId": "254bee63-6486-4b3c-cbbb-c0258a41e70d"
      },
      "source": [
        "# Count of Ratings for specific beer id\n",
        "reviews_count_beer_id.head(3)"
      ],
      "execution_count": null,
      "outputs": [
        {
          "output_type": "execute_result",
          "data": {
            "text/html": [
              "<div>\n",
              "<style scoped>\n",
              "    .dataframe tbody tr th:only-of-type {\n",
              "        vertical-align: middle;\n",
              "    }\n",
              "\n",
              "    .dataframe tbody tr th {\n",
              "        vertical-align: top;\n",
              "    }\n",
              "\n",
              "    .dataframe thead th {\n",
              "        text-align: right;\n",
              "    }\n",
              "</style>\n",
              "<table border=\"1\" class=\"dataframe\">\n",
              "  <thead>\n",
              "    <tr style=\"text-align: right;\">\n",
              "      <th></th>\n",
              "      <th>Reviews_count</th>\n",
              "    </tr>\n",
              "    <tr>\n",
              "      <th>beer_beerid</th>\n",
              "      <th></th>\n",
              "    </tr>\n",
              "  </thead>\n",
              "  <tbody>\n",
              "    <tr>\n",
              "      <th>2093</th>\n",
              "      <td>980</td>\n",
              "    </tr>\n",
              "    <tr>\n",
              "      <th>412</th>\n",
              "      <td>972</td>\n",
              "    </tr>\n",
              "    <tr>\n",
              "      <th>1904</th>\n",
              "      <td>903</td>\n",
              "    </tr>\n",
              "  </tbody>\n",
              "</table>\n",
              "</div>"
            ],
            "text/plain": [
              "             Reviews_count\n",
              "beer_beerid               \n",
              "2093                   980\n",
              "412                    972\n",
              "1904                   903"
            ]
          },
          "metadata": {
            "tags": []
          },
          "execution_count": 44
        }
      ]
    },
    {
      "cell_type": "code",
      "metadata": {
        "id": "bcvkI1Rnrl0A"
      },
      "source": [
        "reviews_count_beer_id.reset_index(inplace=True)"
      ],
      "execution_count": null,
      "outputs": []
    },
    {
      "cell_type": "code",
      "metadata": {
        "id": "eBPl6T-6jnXr"
      },
      "source": [
        "reviews_count_analyze = reviews_count_beer_id.Reviews_count.value_counts().to_frame().reset_index()"
      ],
      "execution_count": null,
      "outputs": []
    },
    {
      "cell_type": "code",
      "metadata": {
        "id": "FK5wJ5FxkLZs"
      },
      "source": [
        "reviews_count_analyze.columns = ['number_of_reviews','number_of_beers']"
      ],
      "execution_count": null,
      "outputs": []
    },
    {
      "cell_type": "code",
      "metadata": {
        "colab": {
          "base_uri": "https://localhost:8080/",
          "height": 359
        },
        "id": "iXkSzNeekPBj",
        "outputId": "eac698cb-596a-48e0-cfa2-0cf10d5e3c69"
      },
      "source": [
        "# Number of ratings for Number of beers\n",
        "reviews_count_analyze.head(10)"
      ],
      "execution_count": null,
      "outputs": [
        {
          "output_type": "execute_result",
          "data": {
            "text/html": [
              "<div>\n",
              "<style scoped>\n",
              "    .dataframe tbody tr th:only-of-type {\n",
              "        vertical-align: middle;\n",
              "    }\n",
              "\n",
              "    .dataframe tbody tr th {\n",
              "        vertical-align: top;\n",
              "    }\n",
              "\n",
              "    .dataframe thead th {\n",
              "        text-align: right;\n",
              "    }\n",
              "</style>\n",
              "<table border=\"1\" class=\"dataframe\">\n",
              "  <thead>\n",
              "    <tr style=\"text-align: right;\">\n",
              "      <th></th>\n",
              "      <th>number_of_reviews</th>\n",
              "      <th>number_of_beers</th>\n",
              "    </tr>\n",
              "  </thead>\n",
              "  <tbody>\n",
              "    <tr>\n",
              "      <th>0</th>\n",
              "      <td>1</td>\n",
              "      <td>18066</td>\n",
              "    </tr>\n",
              "    <tr>\n",
              "      <th>1</th>\n",
              "      <td>2</td>\n",
              "      <td>6188</td>\n",
              "    </tr>\n",
              "    <tr>\n",
              "      <th>2</th>\n",
              "      <td>3</td>\n",
              "      <td>3072</td>\n",
              "    </tr>\n",
              "    <tr>\n",
              "      <th>3</th>\n",
              "      <td>4</td>\n",
              "      <td>1906</td>\n",
              "    </tr>\n",
              "    <tr>\n",
              "      <th>4</th>\n",
              "      <td>5</td>\n",
              "      <td>1344</td>\n",
              "    </tr>\n",
              "    <tr>\n",
              "      <th>5</th>\n",
              "      <td>6</td>\n",
              "      <td>963</td>\n",
              "    </tr>\n",
              "    <tr>\n",
              "      <th>6</th>\n",
              "      <td>7</td>\n",
              "      <td>785</td>\n",
              "    </tr>\n",
              "    <tr>\n",
              "      <th>7</th>\n",
              "      <td>8</td>\n",
              "      <td>560</td>\n",
              "    </tr>\n",
              "    <tr>\n",
              "      <th>8</th>\n",
              "      <td>9</td>\n",
              "      <td>474</td>\n",
              "    </tr>\n",
              "    <tr>\n",
              "      <th>9</th>\n",
              "      <td>10</td>\n",
              "      <td>406</td>\n",
              "    </tr>\n",
              "  </tbody>\n",
              "</table>\n",
              "</div>"
            ],
            "text/plain": [
              "   number_of_reviews  number_of_beers\n",
              "0                  1            18066\n",
              "1                  2             6188\n",
              "2                  3             3072\n",
              "3                  4             1906\n",
              "4                  5             1344\n",
              "5                  6              963\n",
              "6                  7              785\n",
              "7                  8              560\n",
              "8                  9              474\n",
              "9                 10              406"
            ]
          },
          "metadata": {
            "tags": []
          },
          "execution_count": 48
        }
      ]
    },
    {
      "cell_type": "code",
      "metadata": {
        "colab": {
          "base_uri": "https://localhost:8080/",
          "height": 232
        },
        "id": "j4HGeDhCnbUO",
        "outputId": "44982035-4108-47de-d9d3-50c7eeb07f1b"
      },
      "source": [
        "import seaborn as sns\n",
        "\n",
        "sns.set(rc={'figure.figsize':(25,7)})\n",
        "ax = sns.barplot(x=reviews_count_analyze[0:100].number_of_reviews, y=reviews_count_analyze[0:200].number_of_beers, palette=\"rocket\")\n",
        "ax.set(yscale=\"log\")\n",
        "ax.set_xticklabels(ax.get_xticklabels(), rotation=90,fontsize=10)\n",
        "ax"
      ],
      "execution_count": null,
      "outputs": [
        {
          "output_type": "execute_result",
          "data": {
            "text/plain": [
              "<matplotlib.axes._subplots.AxesSubplot at 0x7fef5770f898>"
            ]
          },
          "metadata": {
            "tags": []
          },
          "execution_count": 49
        },
        {
          "output_type": "display_data",
          "data": {
            "image/png": "[encoded data removed]",
            "text/plain": [
              "<Figure size 1800x504 with 1 Axes>"
            ]
          },
          "metadata": {
            "tags": []
          }
        }
      ]
    },
    {
      "cell_type": "markdown",
      "metadata": {
        "id": "rVwy_p4OoIzw"
      },
      "source": [
        "There are very few number of beers with more number of ratings."
      ]
    },
    {
      "cell_type": "markdown",
      "metadata": {
        "id": "FiFUoThDomwK"
      },
      "source": [
        "**Analysing number of users with number of reviews they have given**"
      ]
    },
    {
      "cell_type": "code",
      "metadata": {
        "id": "h103BGa1oKSP"
      },
      "source": [
        "reviews_count_by_profilename = beer_data.groupby('review_profilename').review_overall.count().to_frame('count_reviews').sort_values(by = \"count_reviews\", ascending = False)"
      ],
      "execution_count": null,
      "outputs": []
    },
    {
      "cell_type": "code",
      "metadata": {
        "id": "Z9d0qST2o8Nl"
      },
      "source": [
        "reviews_count_by_profilename.reset_index(inplace=True)"
      ],
      "execution_count": null,
      "outputs": []
    },
    {
      "cell_type": "code",
      "metadata": {
        "colab": {
          "base_uri": "https://localhost:8080/",
          "height": 204
        },
        "id": "8B979U9Ko-QN",
        "outputId": "182f8e00-b0a4-4415-d2fa-0302432156c6"
      },
      "source": [
        "reviews_count_by_profilename.head()"
      ],
      "execution_count": null,
      "outputs": [
        {
          "output_type": "execute_result",
          "data": {
            "text/html": [
              "<div>\n",
              "<style scoped>\n",
              "    .dataframe tbody tr th:only-of-type {\n",
              "        vertical-align: middle;\n",
              "    }\n",
              "\n",
              "    .dataframe tbody tr th {\n",
              "        vertical-align: top;\n",
              "    }\n",
              "\n",
              "    .dataframe thead th {\n",
              "        text-align: right;\n",
              "    }\n",
              "</style>\n",
              "<table border=\"1\" class=\"dataframe\">\n",
              "  <thead>\n",
              "    <tr style=\"text-align: right;\">\n",
              "      <th></th>\n",
              "      <th>review_profilename</th>\n",
              "      <th>count_reviews</th>\n",
              "    </tr>\n",
              "  </thead>\n",
              "  <tbody>\n",
              "    <tr>\n",
              "      <th>0</th>\n",
              "      <td>northyorksammy</td>\n",
              "      <td>1844</td>\n",
              "    </tr>\n",
              "    <tr>\n",
              "      <th>1</th>\n",
              "      <td>mikesgroove</td>\n",
              "      <td>1377</td>\n",
              "    </tr>\n",
              "    <tr>\n",
              "      <th>2</th>\n",
              "      <td>BuckeyeNation</td>\n",
              "      <td>1337</td>\n",
              "    </tr>\n",
              "    <tr>\n",
              "      <th>3</th>\n",
              "      <td>Thorpe429</td>\n",
              "      <td>1072</td>\n",
              "    </tr>\n",
              "    <tr>\n",
              "      <th>4</th>\n",
              "      <td>ChainGangGuy</td>\n",
              "      <td>1046</td>\n",
              "    </tr>\n",
              "  </tbody>\n",
              "</table>\n",
              "</div>"
            ],
            "text/plain": [
              "  review_profilename  count_reviews\n",
              "0     northyorksammy           1844\n",
              "1        mikesgroove           1377\n",
              "2      BuckeyeNation           1337\n",
              "3          Thorpe429           1072\n",
              "4       ChainGangGuy           1046"
            ]
          },
          "metadata": {
            "tags": []
          },
          "execution_count": 52
        }
      ]
    },
    {
      "cell_type": "code",
      "metadata": {
        "id": "VR9G4RHopBDV"
      },
      "source": [
        "#now lets explore number of users with number of reviews they have given\n",
        "reviews_count_user = reviews_count_by_profilename.count_reviews.value_counts().to_frame().reset_index()"
      ],
      "execution_count": null,
      "outputs": []
    },
    {
      "cell_type": "code",
      "metadata": {
        "id": "B3chogzNpGmr"
      },
      "source": [
        "reviews_count_user.columns = ['number_of_reviews','number_of_users']"
      ],
      "execution_count": null,
      "outputs": []
    },
    {
      "cell_type": "code",
      "metadata": {
        "colab": {
          "base_uri": "https://localhost:8080/",
          "height": 204
        },
        "id": "ZWGzCuGKpJQP",
        "outputId": "b68cc916-9359-4d2d-f05c-192cdda24d17"
      },
      "source": [
        "reviews_count_user.head()"
      ],
      "execution_count": null,
      "outputs": [
        {
          "output_type": "execute_result",
          "data": {
            "text/html": [
              "<div>\n",
              "<style scoped>\n",
              "    .dataframe tbody tr th:only-of-type {\n",
              "        vertical-align: middle;\n",
              "    }\n",
              "\n",
              "    .dataframe tbody tr th {\n",
              "        vertical-align: top;\n",
              "    }\n",
              "\n",
              "    .dataframe thead th {\n",
              "        text-align: right;\n",
              "    }\n",
              "</style>\n",
              "<table border=\"1\" class=\"dataframe\">\n",
              "  <thead>\n",
              "    <tr style=\"text-align: right;\">\n",
              "      <th></th>\n",
              "      <th>number_of_reviews</th>\n",
              "      <th>number_of_users</th>\n",
              "    </tr>\n",
              "  </thead>\n",
              "  <tbody>\n",
              "    <tr>\n",
              "      <th>0</th>\n",
              "      <td>1</td>\n",
              "      <td>7976</td>\n",
              "    </tr>\n",
              "    <tr>\n",
              "      <th>1</th>\n",
              "      <td>2</td>\n",
              "      <td>2948</td>\n",
              "    </tr>\n",
              "    <tr>\n",
              "      <th>2</th>\n",
              "      <td>3</td>\n",
              "      <td>1621</td>\n",
              "    </tr>\n",
              "    <tr>\n",
              "      <th>3</th>\n",
              "      <td>4</td>\n",
              "      <td>1108</td>\n",
              "    </tr>\n",
              "    <tr>\n",
              "      <th>4</th>\n",
              "      <td>5</td>\n",
              "      <td>841</td>\n",
              "    </tr>\n",
              "  </tbody>\n",
              "</table>\n",
              "</div>"
            ],
            "text/plain": [
              "   number_of_reviews  number_of_users\n",
              "0                  1             7976\n",
              "1                  2             2948\n",
              "2                  3             1621\n",
              "3                  4             1108\n",
              "4                  5              841"
            ]
          },
          "metadata": {
            "tags": []
          },
          "execution_count": 55
        }
      ]
    },
    {
      "cell_type": "code",
      "metadata": {
        "colab": {
          "base_uri": "https://localhost:8080/",
          "height": 233
        },
        "id": "CFWABh76pQgi",
        "outputId": "85c7e151-a543-4d19-8664-0ef777939c5b"
      },
      "source": [
        "#visualizing number of users with number of reviews\n",
        "\n",
        "sns.set(rc={'figure.figsize':(25,7)})\n",
        "ax = sns.barplot(x=reviews_count_user[0:100].number_of_reviews, y=reviews_count_user[0:200].number_of_users, palette=\"rocket\")\n",
        "ax.set(yscale=\"log\")\n",
        "ax.set_xticklabels(ax.get_xticklabels(), rotation=90,fontsize=10)\n",
        "ax"
      ],
      "execution_count": null,
      "outputs": [
        {
          "output_type": "execute_result",
          "data": {
            "text/plain": [
              "<matplotlib.axes._subplots.AxesSubplot at 0x7fef57325e48>"
            ]
          },
          "metadata": {
            "tags": []
          },
          "execution_count": 56
        },
        {
          "output_type": "display_data",
          "data": {
            "image/png": "[encoded data removed]",
            "text/plain": [
              "<Figure size 1800x504 with 1 Axes>"
            ]
          },
          "metadata": {
            "tags": []
          }
        }
      ]
    },
    {
      "cell_type": "markdown",
      "metadata": {
        "id": "wMRCK6rJpoPp"
      },
      "source": [
        "There are few number of users who gave more reviews/ratings."
      ]
    },
    {
      "cell_type": "markdown",
      "metadata": {
        "id": "_v6Iv2Q6pwBu"
      },
      "source": [
        "### **Data Exploration**"
      ]
    },
    {
      "cell_type": "code",
      "metadata": {
        "colab": {
          "base_uri": "https://localhost:8080/"
        },
        "id": "nh3sB3xrppsh",
        "outputId": "220292fe-787e-4076-97af-620fe6414d53"
      },
      "source": [
        "beer_data.beer_beerid.nunique()"
      ],
      "execution_count": null,
      "outputs": [
        {
          "output_type": "execute_result",
          "data": {
            "text/plain": [
              "40304"
            ]
          },
          "metadata": {
            "tags": []
          },
          "execution_count": 57
        }
      ]
    },
    {
      "cell_type": "code",
      "metadata": {
        "colab": {
          "base_uri": "https://localhost:8080/"
        },
        "id": "8okdwJCUp3M-",
        "outputId": "e3571bda-9f9f-40e7-b896-5d3992fcbd7a"
      },
      "source": [
        "beer_data.review_profilename.nunique()"
      ],
      "execution_count": null,
      "outputs": [
        {
          "output_type": "execute_result",
          "data": {
            "text/plain": [
              "22497"
            ]
          },
          "metadata": {
            "tags": []
          },
          "execution_count": 58
        }
      ]
    },
    {
      "cell_type": "code",
      "metadata": {
        "colab": {
          "base_uri": "https://localhost:8080/"
        },
        "id": "sGMvDb9CqKF7",
        "outputId": "1f9b3963-c963-4961-ac6b-c3dcf53e95b1"
      },
      "source": [
        "beer_data.review_overall.nunique()"
      ],
      "execution_count": null,
      "outputs": [
        {
          "output_type": "execute_result",
          "data": {
            "text/plain": [
              "10"
            ]
          },
          "metadata": {
            "tags": []
          },
          "execution_count": 59
        }
      ]
    },
    {
      "cell_type": "code",
      "metadata": {
        "colab": {
          "base_uri": "https://localhost:8080/"
        },
        "id": "N1r_7Ofbp6gN",
        "outputId": "20ebef6a-640b-4d23-f0db-72ce598914ae"
      },
      "source": [
        "beer_data.review_overall.value_counts()"
      ],
      "execution_count": null,
      "outputs": [
        {
          "output_type": "execute_result",
          "data": {
            "text/plain": [
              "4.0    174527\n",
              "4.5     97156\n",
              "3.5     90725\n",
              "3.0     49490\n",
              "5.0     27115\n",
              "2.5     17581\n",
              "2.0     11601\n",
              "1.5      3814\n",
              "1.0      3289\n",
              "0.0         6\n",
              "Name: review_overall, dtype: int64"
            ]
          },
          "metadata": {
            "tags": []
          },
          "execution_count": 60
        }
      ]
    },
    {
      "cell_type": "code",
      "metadata": {
        "colab": {
          "base_uri": "https://localhost:8080/"
        },
        "id": "9_hyyEUAqNkW",
        "outputId": "f16bbbd6-aec2-4f0b-ef45-690616502bf3"
      },
      "source": [
        "beer_data.beer_beerid.count()"
      ],
      "execution_count": null,
      "outputs": [
        {
          "output_type": "execute_result",
          "data": {
            "text/plain": [
              "475304"
            ]
          },
          "metadata": {
            "tags": []
          },
          "execution_count": 61
        }
      ]
    },
    {
      "cell_type": "markdown",
      "metadata": {
        "id": "6VX1bBk4LScM"
      },
      "source": [
        "**Removing the beer id's for which the number of ratings given are less than 30.**\n",
        "\n",
        "**Removing the user id's who gave ratings less than 30.**"
      ]
    },
    {
      "cell_type": "code",
      "metadata": {
        "id": "LMdlF5TjqjyW"
      },
      "source": [
        "beer_ids_no_of_ratings_grt_30 = reviews_count_beer_id.loc[reviews_count_beer_id.Reviews_count>=30].beer_beerid.to_frame('beer_beerid')\n",
        "users_no_of_ratings_grt_30 = reviews_count_by_profilename.loc[reviews_count_by_profilename.count_reviews>=30].review_profilename.to_frame('review_profilename')"
      ],
      "execution_count": null,
      "outputs": []
    },
    {
      "cell_type": "code",
      "metadata": {
        "id": "VYkq4I4QrrrC"
      },
      "source": [
        "rating = pd.merge(beer_data, beer_ids_no_of_ratings_grt_30, how='inner', on='beer_beerid')\n",
        "rating = pd.merge(rating, users_no_of_ratings_grt_30, how='inner', on='review_profilename')"
      ],
      "execution_count": null,
      "outputs": []
    },
    {
      "cell_type": "code",
      "metadata": {
        "colab": {
          "base_uri": "https://localhost:8080/"
        },
        "id": "lM_zSzEbr7Bi",
        "outputId": "08ecdd50-ceca-4a51-b934-a44036c892ad"
      },
      "source": [
        "rating.count()"
      ],
      "execution_count": null,
      "outputs": [
        {
          "output_type": "execute_result",
          "data": {
            "text/plain": [
              "beer_beerid           265348\n",
              "review_profilename    265348\n",
              "review_overall        265348\n",
              "dtype: int64"
            ]
          },
          "metadata": {
            "tags": []
          },
          "execution_count": 64
        }
      ]
    },
    {
      "cell_type": "code",
      "metadata": {
        "colab": {
          "base_uri": "https://localhost:8080/"
        },
        "id": "-fubsDmHsCK2",
        "outputId": "8e7863c1-d631-4a51-e806-b88dc2d5ce67"
      },
      "source": [
        "rating.groupby('beer_beerid').review_overall.mean()"
      ],
      "execution_count": null,
      "outputs": [
        {
          "output_type": "execute_result",
          "data": {
            "text/plain": [
              "beer_beerid\n",
              "5        3.532609\n",
              "6        3.707895\n",
              "7        3.273649\n",
              "9        3.344828\n",
              "10       3.859116\n",
              "           ...   \n",
              "74827    3.942857\n",
              "74904    3.925926\n",
              "74986    4.228261\n",
              "75013    4.120690\n",
              "75086    3.664062\n",
              "Name: review_overall, Length: 3130, dtype: float64"
            ]
          },
          "metadata": {
            "tags": []
          },
          "execution_count": 65
        }
      ]
    },
    {
      "cell_type": "code",
      "metadata": {
        "colab": {
          "base_uri": "https://localhost:8080/"
        },
        "id": "S9J6e-w2sKt9",
        "outputId": "abb216dd-961a-43ac-aeb6-499a41e55fff"
      },
      "source": [
        "rating.groupby('beer_beerid').review_overall.mean().mean()"
      ],
      "execution_count": null,
      "outputs": [
        {
          "output_type": "execute_result",
          "data": {
            "text/plain": [
              "3.7837973354284613"
            ]
          },
          "metadata": {
            "tags": []
          },
          "execution_count": 66
        }
      ]
    },
    {
      "cell_type": "code",
      "metadata": {
        "colab": {
          "base_uri": "https://localhost:8080/",
          "height": 283
        },
        "id": "drvh_bFNsf-Z",
        "outputId": "12bab0d8-3a99-4177-be31-fde075c1f68a"
      },
      "source": [
        "sns.distplot(rating.groupby('beer_beerid').review_overall.mean(), color=\"m\")"
      ],
      "execution_count": null,
      "outputs": [
        {
          "output_type": "stream",
          "text": [
            "/usr/local/lib/python3.6/dist-packages/seaborn/distributions.py:2551: FutureWarning: `distplot` is a deprecated function and will be removed in a future version. Please adapt your code to use either `displot` (a figure-level function with similar flexibility) or `histplot` (an axes-level function for histograms).\n",
            "  warnings.warn(msg, FutureWarning)\n"
          ],
          "name": "stderr"
        },
        {
          "output_type": "execute_result",
          "data": {
            "text/plain": [
              "<matplotlib.axes._subplots.AxesSubplot at 0x7fef56fde320>"
            ]
          },
          "metadata": {
            "tags": []
          },
          "execution_count": 67
        },
        {
          "output_type": "display_data",
          "data": {
            "image/png": "[encoded data removed]",
            "text/plain": [
              "<Figure size 1800x504 with 1 Axes>"
            ]
          },
          "metadata": {
            "tags": []
          }
        }
      ]
    },
    {
      "cell_type": "code",
      "metadata": {
        "colab": {
          "base_uri": "https://localhost:8080/"
        },
        "id": "1b7tBMm1sr5W",
        "outputId": "a54293a6-1545-462d-860b-0923131369a6"
      },
      "source": [
        "rating.groupby('review_profilename').review_overall.mean()"
      ],
      "execution_count": null,
      "outputs": [
        {
          "output_type": "execute_result",
          "data": {
            "text/plain": [
              "review_profilename\n",
              "0110x011       4.333333\n",
              "05Harley       4.136364\n",
              "100floods      4.069444\n",
              "1759Girl       3.663043\n",
              "1fastz28       3.850467\n",
              "                 ...   \n",
              "zoolzoo        3.652542\n",
              "zoso1967       3.963504\n",
              "zoso493        3.981132\n",
              "zrab11         3.936508\n",
              "zymurgy4all    3.750000\n",
              "Name: review_overall, Length: 3176, dtype: float64"
            ]
          },
          "metadata": {
            "tags": []
          },
          "execution_count": 68
        }
      ]
    },
    {
      "cell_type": "code",
      "metadata": {
        "colab": {
          "base_uri": "https://localhost:8080/"
        },
        "id": "1rac-xamsyZ-",
        "outputId": "1e06f9ca-61c5-438b-bc8c-a269215ab28a"
      },
      "source": [
        "rating.groupby('review_profilename').review_overall.mean().mean()"
      ],
      "execution_count": null,
      "outputs": [
        {
          "output_type": "execute_result",
          "data": {
            "text/plain": [
              "3.8607538534577253"
            ]
          },
          "metadata": {
            "tags": []
          },
          "execution_count": 69
        }
      ]
    },
    {
      "cell_type": "code",
      "metadata": {
        "colab": {
          "base_uri": "https://localhost:8080/",
          "height": 283
        },
        "id": "rX63v2XJtBPN",
        "outputId": "bff1ce63-5e80-4c75-f99e-e242ad6b513c"
      },
      "source": [
        "sns.distplot(rating.groupby('review_profilename').review_overall.mean(), color=\"m\")"
      ],
      "execution_count": null,
      "outputs": [
        {
          "output_type": "stream",
          "text": [
            "/usr/local/lib/python3.6/dist-packages/seaborn/distributions.py:2551: FutureWarning: `distplot` is a deprecated function and will be removed in a future version. Please adapt your code to use either `displot` (a figure-level function with similar flexibility) or `histplot` (an axes-level function for histograms).\n",
            "  warnings.warn(msg, FutureWarning)\n"
          ],
          "name": "stderr"
        },
        {
          "output_type": "execute_result",
          "data": {
            "text/plain": [
              "<matplotlib.axes._subplots.AxesSubplot at 0x7fef572c56d8>"
            ]
          },
          "metadata": {
            "tags": []
          },
          "execution_count": 70
        },
        {
          "output_type": "display_data",
          "data": {
            "image/png": "[encoded data removed]",
            "text/plain": [
              "<Figure size 1800x504 with 1 Axes>"
            ]
          },
          "metadata": {
            "tags": []
          }
        }
      ]
    },
    {
      "cell_type": "code",
      "metadata": {
        "id": "sNZyy-0-tgrK"
      },
      "source": [
        "reviews_count_beer_id = rating.groupby('beer_beerid').review_overall.count().to_frame('Reviews_count').sort_values(by = \"Reviews_count\", ascending = False)"
      ],
      "execution_count": null,
      "outputs": []
    },
    {
      "cell_type": "code",
      "metadata": {
        "colab": {
          "base_uri": "https://localhost:8080/",
          "height": 235
        },
        "id": "RuSMRgQKtngL",
        "outputId": "c011dfde-bf7f-40a0-ef6b-d0efdb3db2d5"
      },
      "source": [
        "reviews_count_beer_id.head()"
      ],
      "execution_count": null,
      "outputs": [
        {
          "output_type": "execute_result",
          "data": {
            "text/html": [
              "<div>\n",
              "<style scoped>\n",
              "    .dataframe tbody tr th:only-of-type {\n",
              "        vertical-align: middle;\n",
              "    }\n",
              "\n",
              "    .dataframe tbody tr th {\n",
              "        vertical-align: top;\n",
              "    }\n",
              "\n",
              "    .dataframe thead th {\n",
              "        text-align: right;\n",
              "    }\n",
              "</style>\n",
              "<table border=\"1\" class=\"dataframe\">\n",
              "  <thead>\n",
              "    <tr style=\"text-align: right;\">\n",
              "      <th></th>\n",
              "      <th>Reviews_count</th>\n",
              "    </tr>\n",
              "    <tr>\n",
              "      <th>beer_beerid</th>\n",
              "      <th></th>\n",
              "    </tr>\n",
              "  </thead>\n",
              "  <tbody>\n",
              "    <tr>\n",
              "      <th>2093</th>\n",
              "      <td>603</td>\n",
              "    </tr>\n",
              "    <tr>\n",
              "      <th>412</th>\n",
              "      <td>595</td>\n",
              "    </tr>\n",
              "    <tr>\n",
              "      <th>1904</th>\n",
              "      <td>575</td>\n",
              "    </tr>\n",
              "    <tr>\n",
              "      <th>1093</th>\n",
              "      <td>557</td>\n",
              "    </tr>\n",
              "    <tr>\n",
              "      <th>4083</th>\n",
              "      <td>531</td>\n",
              "    </tr>\n",
              "  </tbody>\n",
              "</table>\n",
              "</div>"
            ],
            "text/plain": [
              "             Reviews_count\n",
              "beer_beerid               \n",
              "2093                   603\n",
              "412                    595\n",
              "1904                   575\n",
              "1093                   557\n",
              "4083                   531"
            ]
          },
          "metadata": {
            "tags": []
          },
          "execution_count": 72
        }
      ]
    },
    {
      "cell_type": "code",
      "metadata": {
        "id": "MStnnOYgt0SZ"
      },
      "source": [
        "review_count_user = rating.groupby('review_profilename').review_overall.count().to_frame('Reviews_count').sort_values(by = \"Reviews_count\", ascending = False)"
      ],
      "execution_count": null,
      "outputs": []
    },
    {
      "cell_type": "markdown",
      "metadata": {
        "id": "Fg_HkSIqt8Pl"
      },
      "source": [
        "**BUILDING RECOMMENDATION SYSTEM USING TURICREATE LIBRARY**"
      ]
    },
    {
      "cell_type": "code",
      "metadata": {
        "id": "bWTGDK4dt2zL"
      },
      "source": [
        "#Importing Libraries\n",
        "import sklearn\n",
        "from sklearn.model_selection import train_test_split"
      ],
      "execution_count": null,
      "outputs": []
    },
    {
      "cell_type": "code",
      "metadata": {
        "id": "v5n79tYAuFQD"
      },
      "source": [
        "train, test = train_test_split(rating, test_size=0.30, random_state=31)"
      ],
      "execution_count": null,
      "outputs": []
    },
    {
      "cell_type": "code",
      "metadata": {
        "id": "S0lZzB7puM1j"
      },
      "source": [
        "train.reset_index(inplace=True,drop=True)\n",
        "test.reset_index(inplace=True,drop=True)"
      ],
      "execution_count": null,
      "outputs": []
    },
    {
      "cell_type": "code",
      "metadata": {
        "colab": {
          "base_uri": "https://localhost:8080/",
          "height": 204
        },
        "id": "_y939DZhuNr2",
        "outputId": "dfa9302a-05f1-4d31-b523-2869f26d7e28"
      },
      "source": [
        "train.head()"
      ],
      "execution_count": null,
      "outputs": [
        {
          "output_type": "execute_result",
          "data": {
            "text/html": [
              "<div>\n",
              "<style scoped>\n",
              "    .dataframe tbody tr th:only-of-type {\n",
              "        vertical-align: middle;\n",
              "    }\n",
              "\n",
              "    .dataframe tbody tr th {\n",
              "        vertical-align: top;\n",
              "    }\n",
              "\n",
              "    .dataframe thead th {\n",
              "        text-align: right;\n",
              "    }\n",
              "</style>\n",
              "<table border=\"1\" class=\"dataframe\">\n",
              "  <thead>\n",
              "    <tr style=\"text-align: right;\">\n",
              "      <th></th>\n",
              "      <th>beer_beerid</th>\n",
              "      <th>review_profilename</th>\n",
              "      <th>review_overall</th>\n",
              "    </tr>\n",
              "  </thead>\n",
              "  <tbody>\n",
              "    <tr>\n",
              "      <th>0</th>\n",
              "      <td>56761</td>\n",
              "      <td>bort11</td>\n",
              "      <td>4.5</td>\n",
              "    </tr>\n",
              "    <tr>\n",
              "      <th>1</th>\n",
              "      <td>59</td>\n",
              "      <td>Treebs</td>\n",
              "      <td>4.0</td>\n",
              "    </tr>\n",
              "    <tr>\n",
              "      <th>2</th>\n",
              "      <td>818</td>\n",
              "      <td>DrJay</td>\n",
              "      <td>4.0</td>\n",
              "    </tr>\n",
              "    <tr>\n",
              "      <th>3</th>\n",
              "      <td>1149</td>\n",
              "      <td>beerthulhu</td>\n",
              "      <td>4.0</td>\n",
              "    </tr>\n",
              "    <tr>\n",
              "      <th>4</th>\n",
              "      <td>63</td>\n",
              "      <td>yesyouam</td>\n",
              "      <td>4.5</td>\n",
              "    </tr>\n",
              "  </tbody>\n",
              "</table>\n",
              "</div>"
            ],
            "text/plain": [
              "   beer_beerid review_profilename  review_overall\n",
              "0        56761             bort11             4.5\n",
              "1           59             Treebs             4.0\n",
              "2          818              DrJay             4.0\n",
              "3         1149         beerthulhu             4.0\n",
              "4           63           yesyouam             4.5"
            ]
          },
          "metadata": {
            "tags": []
          },
          "execution_count": 77
        }
      ]
    },
    {
      "cell_type": "code",
      "metadata": {
        "colab": {
          "base_uri": "https://localhost:8080/"
        },
        "id": "_5St4V3OvzpU",
        "outputId": "6f10137c-2823-452c-8b7d-ef00ae68d07a"
      },
      "source": [
        "pip install turicreate"
      ],
      "execution_count": null,
      "outputs": [
        {
          "output_type": "stream",
          "text": [
            "Collecting turicreate\n",
            "\u001b[?25l  Downloading https://files.pythonhosted.org/packages/ea/63/00ef7586c56a1aa48a7acabe20e1118cd82794785a56137e190fc6fb049c/turicreate-6.4.1-cp36-cp36m-manylinux1_x86_64.whl (92.0MB)\n",
            "\u001b[K     |████████████████████████████████| 92.0MB 47kB/s \n",
            "\u001b[?25hRequirement already satisfied: six>=1.10.0 in /usr/local/lib/python3.6/dist-packages (from turicreate) (1.15.0)\n",
            "Requirement already satisfied: numba<0.51.0 in /usr/local/lib/python3.6/dist-packages (from turicreate) (0.48.0)\n",
            "Requirement already satisfied: numpy in /usr/local/lib/python3.6/dist-packages (from turicreate) (1.18.5)\n",
            "Collecting tensorflow<2.1.0,>=2.0.0\n",
            "\u001b[?25l  Downloading https://files.pythonhosted.org/packages/87/5e/254f5baeb331a7c9065b796d786cd07c5db79f2d76a496b74891a6521e25/tensorflow-2.0.3-cp36-cp36m-manylinux2010_x86_64.whl (86.4MB)\n",
            "\u001b[K     |████████████████████████████████| 86.4MB 67kB/s \n",
            "\u001b[?25hCollecting coremltools==3.3\n",
            "\u001b[?25l  Downloading https://files.pythonhosted.org/packages/77/19/611916d1ef326d38857d93af5ba184f6ad7491642e0fa4f9082e7d82f034/coremltools-3.3-cp36-none-manylinux1_x86_64.whl (3.4MB)\n",
            "\u001b[K     |████████████████████████████████| 3.4MB 44.7MB/s \n",
            "\u001b[?25hCollecting resampy==0.2.1\n",
            "\u001b[?25l  Downloading https://files.pythonhosted.org/packages/14/b6/66a06d85474190b50aee1a6c09cdc95bb405ac47338b27e9b21409da1760/resampy-0.2.1.tar.gz (322kB)\n",
            "\u001b[K     |████████████████████████████████| 327kB 42.1MB/s \n",
            "\u001b[?25hRequirement already satisfied: pandas>=0.23.2 in /usr/local/lib/python3.6/dist-packages (from turicreate) (1.1.5)\n",
            "Requirement already satisfied: decorator>=4.0.9 in /usr/local/lib/python3.6/dist-packages (from turicreate) (4.4.2)\n",
            "Collecting prettytable==0.7.2\n",
            "  Downloading https://files.pythonhosted.org/packages/ef/30/4b0746848746ed5941f052479e7c23d2b56d174b82f4fd34a25e389831f5/prettytable-0.7.2.tar.bz2\n",
            "Requirement already satisfied: requests>=2.9.1 in /usr/local/lib/python3.6/dist-packages (from turicreate) (2.23.0)\n",
            "Requirement already satisfied: pillow>=5.2.0 in /usr/local/lib/python3.6/dist-packages (from turicreate) (7.0.0)\n",
            "Requirement already satisfied: scipy>=1.1.0 in /usr/local/lib/python3.6/dist-packages (from turicreate) (1.4.1)\n",
            "Requirement already satisfied: llvmlite<0.32.0,>=0.31.0dev0 in /usr/local/lib/python3.6/dist-packages (from numba<0.51.0->turicreate) (0.31.0)\n",
            "Requirement already satisfied: setuptools in /usr/local/lib/python3.6/dist-packages (from numba<0.51.0->turicreate) (50.3.2)\n",
            "Collecting gast==0.2.2\n",
            "  Downloading https://files.pythonhosted.org/packages/4e/35/11749bf99b2d4e3cceb4d55ca22590b0d7c2c62b9de38ac4a4a7f4687421/gast-0.2.2.tar.gz\n",
            "Requirement already satisfied: wheel>=0.26; python_version >= \"3\" in /usr/local/lib/python3.6/dist-packages (from tensorflow<2.1.0,>=2.0.0->turicreate) (0.36.1)\n",
            "Requirement already satisfied: google-pasta>=0.1.6 in /usr/local/lib/python3.6/dist-packages (from tensorflow<2.1.0,>=2.0.0->turicreate) (0.2.0)\n",
            "Requirement already satisfied: opt-einsum>=2.3.2 in /usr/local/lib/python3.6/dist-packages (from tensorflow<2.1.0,>=2.0.0->turicreate) (3.3.0)\n",
            "Collecting tensorflow-estimator<2.1.0,>=2.0.0\n",
            "\u001b[?25l  Downloading https://files.pythonhosted.org/packages/fc/08/8b927337b7019c374719145d1dceba21a8bb909b93b1ad6f8fb7d22c1ca1/tensorflow_estimator-2.0.1-py2.py3-none-any.whl (449kB)\n",
            "\u001b[K     |████████████████████████████████| 450kB 43.6MB/s \n",
            "\u001b[?25hCollecting keras-applications>=1.0.8\n",
            "\u001b[?25l  Downloading https://files.pythonhosted.org/packages/71/e3/19762fdfc62877ae9102edf6342d71b28fbfd9dea3d2f96a882ce099b03f/Keras_Applications-1.0.8-py3-none-any.whl (50kB)\n",
            "\u001b[K     |████████████████████████████████| 51kB 6.4MB/s \n",
            "\u001b[?25hRequirement already satisfied: grpcio>=1.8.6 in /usr/local/lib/python3.6/dist-packages (from tensorflow<2.1.0,>=2.0.0->turicreate) (1.34.0)\n",
            "Requirement already satisfied: protobuf>=3.6.1 in /usr/local/lib/python3.6/dist-packages (from tensorflow<2.1.0,>=2.0.0->turicreate) (3.12.4)\n",
            "Requirement already satisfied: wrapt>=1.11.1 in /usr/local/lib/python3.6/dist-packages (from tensorflow<2.1.0,>=2.0.0->turicreate) (1.12.1)\n",
            "Requirement already satisfied: astor>=0.6.0 in /usr/local/lib/python3.6/dist-packages (from tensorflow<2.1.0,>=2.0.0->turicreate) (0.8.1)\n",
            "Requirement already satisfied: absl-py>=0.7.0 in /usr/local/lib/python3.6/dist-packages (from tensorflow<2.1.0,>=2.0.0->turicreate) (0.10.0)\n",
            "Collecting tensorboard<2.1.0,>=2.0.0\n",
            "\u001b[?25l  Downloading https://files.pythonhosted.org/packages/76/54/99b9d5d52d5cb732f099baaaf7740403e83fe6b0cedde940fabd2b13d75a/tensorboard-2.0.2-py3-none-any.whl (3.8MB)\n",
            "\u001b[K     |████████████████████████████████| 3.8MB 37.5MB/s \n",
            "\u001b[?25hRequirement already satisfied: keras-preprocessing>=1.0.5 in /usr/local/lib/python3.6/dist-packages (from tensorflow<2.1.0,>=2.0.0->turicreate) (1.1.2)\n",
            "Requirement already satisfied: termcolor>=1.1.0 in /usr/local/lib/python3.6/dist-packages (from tensorflow<2.1.0,>=2.0.0->turicreate) (1.1.0)\n",
            "Requirement already satisfied: pytz>=2017.2 in /usr/local/lib/python3.6/dist-packages (from pandas>=0.23.2->turicreate) (2018.9)\n",
            "Requirement already satisfied: python-dateutil>=2.7.3 in /usr/local/lib/python3.6/dist-packages (from pandas>=0.23.2->turicreate) (2.8.1)\n",
            "Requirement already satisfied: certifi>=2017.4.17 in /usr/local/lib/python3.6/dist-packages (from requests>=2.9.1->turicreate) (2020.12.5)\n",
            "Requirement already satisfied: chardet<4,>=3.0.2 in /usr/local/lib/python3.6/dist-packages (from requests>=2.9.1->turicreate) (3.0.4)\n",
            "Requirement already satisfied: urllib3!=1.25.0,!=1.25.1,<1.26,>=1.21.1 in /usr/local/lib/python3.6/dist-packages (from requests>=2.9.1->turicreate) (1.24.3)\n",
            "Requirement already satisfied: idna<3,>=2.5 in /usr/local/lib/python3.6/dist-packages (from requests>=2.9.1->turicreate) (2.10)\n",
            "Requirement already satisfied: h5py in /usr/local/lib/python3.6/dist-packages (from keras-applications>=1.0.8->tensorflow<2.1.0,>=2.0.0->turicreate) (2.10.0)\n",
            "Requirement already satisfied: werkzeug>=0.11.15 in /usr/local/lib/python3.6/dist-packages (from tensorboard<2.1.0,>=2.0.0->tensorflow<2.1.0,>=2.0.0->turicreate) (1.0.1)\n",
            "Requirement already satisfied: google-auth<2,>=1.6.3 in /usr/local/lib/python3.6/dist-packages (from tensorboard<2.1.0,>=2.0.0->tensorflow<2.1.0,>=2.0.0->turicreate) (1.17.2)\n",
            "Requirement already satisfied: google-auth-oauthlib<0.5,>=0.4.1 in /usr/local/lib/python3.6/dist-packages (from tensorboard<2.1.0,>=2.0.0->tensorflow<2.1.0,>=2.0.0->turicreate) (0.4.2)\n",
            "Requirement already satisfied: markdown>=2.6.8 in /usr/local/lib/python3.6/dist-packages (from tensorboard<2.1.0,>=2.0.0->tensorflow<2.1.0,>=2.0.0->turicreate) (3.3.3)\n",
            "Requirement already satisfied: pyasn1-modules>=0.2.1 in /usr/local/lib/python3.6/dist-packages (from google-auth<2,>=1.6.3->tensorboard<2.1.0,>=2.0.0->tensorflow<2.1.0,>=2.0.0->turicreate) (0.2.8)\n",
            "Requirement already satisfied: rsa<5,>=3.1.4; python_version >= \"3\" in /usr/local/lib/python3.6/dist-packages (from google-auth<2,>=1.6.3->tensorboard<2.1.0,>=2.0.0->tensorflow<2.1.0,>=2.0.0->turicreate) (4.6)\n",
            "Requirement already satisfied: cachetools<5.0,>=2.0.0 in /usr/local/lib/python3.6/dist-packages (from google-auth<2,>=1.6.3->tensorboard<2.1.0,>=2.0.0->tensorflow<2.1.0,>=2.0.0->turicreate) (4.1.1)\n",
            "Requirement already satisfied: requests-oauthlib>=0.7.0 in /usr/local/lib/python3.6/dist-packages (from google-auth-oauthlib<0.5,>=0.4.1->tensorboard<2.1.0,>=2.0.0->tensorflow<2.1.0,>=2.0.0->turicreate) (1.3.0)\n",
            "Requirement already satisfied: importlib-metadata; python_version < \"3.8\" in /usr/local/lib/python3.6/dist-packages (from markdown>=2.6.8->tensorboard<2.1.0,>=2.0.0->tensorflow<2.1.0,>=2.0.0->turicreate) (3.1.1)\n",
            "Requirement already satisfied: pyasn1<0.5.0,>=0.4.6 in /usr/local/lib/python3.6/dist-packages (from pyasn1-modules>=0.2.1->google-auth<2,>=1.6.3->tensorboard<2.1.0,>=2.0.0->tensorflow<2.1.0,>=2.0.0->turicreate) (0.4.8)\n",
            "Requirement already satisfied: oauthlib>=3.0.0 in /usr/local/lib/python3.6/dist-packages (from requests-oauthlib>=0.7.0->google-auth-oauthlib<0.5,>=0.4.1->tensorboard<2.1.0,>=2.0.0->tensorflow<2.1.0,>=2.0.0->turicreate) (3.1.0)\n",
            "Requirement already satisfied: zipp>=0.5 in /usr/local/lib/python3.6/dist-packages (from importlib-metadata; python_version < \"3.8\"->markdown>=2.6.8->tensorboard<2.1.0,>=2.0.0->tensorflow<2.1.0,>=2.0.0->turicreate) (3.4.0)\n",
            "Building wheels for collected packages: resampy, prettytable, gast\n",
            "  Building wheel for resampy (setup.py) ... \u001b[?25l\u001b[?25hdone\n",
            "  Created wheel for resampy: filename=resampy-0.2.1-cp36-none-any.whl size=320847 sha256=0741e061085fc2f24e09f78653564653846387e0308442b71984ce993f868333\n",
            "  Stored in directory: /root/.cache/pip/wheels/ff/4f/ed/2e6c676c23efe5394bb40ade50662e90eb46e29b48324c5f9b\n",
            "  Building wheel for prettytable (setup.py) ... \u001b[?25l\u001b[?25hdone\n",
            "  Created wheel for prettytable: filename=prettytable-0.7.2-cp36-none-any.whl size=13700 sha256=d2c249ba98f919dab4eed3935fe1a784fcdd26ee071f270164f02b3ca85513ff\n",
            "  Stored in directory: /root/.cache/pip/wheels/80/34/1c/3967380d9676d162cb59513bd9dc862d0584e045a162095606\n",
            "  Building wheel for gast (setup.py) ... \u001b[?25l\u001b[?25hdone\n",
            "  Created wheel for gast: filename=gast-0.2.2-cp36-none-any.whl size=7542 sha256=c7fbe122a18e55e14484e3c1987a3567608955ee9252e889faab566820852625\n",
            "  Stored in directory: /root/.cache/pip/wheels/5c/2e/7e/a1d4d4fcebe6c381f378ce7743a3ced3699feb89bcfbdadadd\n",
            "Successfully built resampy prettytable gast\n",
            "\u001b[31mERROR: tensorflow-probability 0.11.0 has requirement gast>=0.3.2, but you'll have gast 0.2.2 which is incompatible.\u001b[0m\n",
            "Installing collected packages: gast, tensorflow-estimator, keras-applications, tensorboard, tensorflow, coremltools, resampy, prettytable, turicreate\n",
            "  Found existing installation: gast 0.3.3\n",
            "    Uninstalling gast-0.3.3:\n",
            "      Successfully uninstalled gast-0.3.3\n",
            "  Found existing installation: tensorflow-estimator 2.3.0\n",
            "    Uninstalling tensorflow-estimator-2.3.0:\n",
            "      Successfully uninstalled tensorflow-estimator-2.3.0\n",
            "  Found existing installation: tensorboard 2.3.0\n",
            "    Uninstalling tensorboard-2.3.0:\n",
            "      Successfully uninstalled tensorboard-2.3.0\n",
            "  Found existing installation: tensorflow 2.3.0\n",
            "    Uninstalling tensorflow-2.3.0:\n",
            "      Successfully uninstalled tensorflow-2.3.0\n",
            "  Found existing installation: resampy 0.2.2\n",
            "    Uninstalling resampy-0.2.2:\n",
            "      Successfully uninstalled resampy-0.2.2\n",
            "  Found existing installation: prettytable 2.0.0\n",
            "    Uninstalling prettytable-2.0.0:\n",
            "      Successfully uninstalled prettytable-2.0.0\n",
            "Successfully installed coremltools-3.3 gast-0.2.2 keras-applications-1.0.8 prettytable-0.7.2 resampy-0.2.1 tensorboard-2.0.2 tensorflow-2.0.3 tensorflow-estimator-2.0.1 turicreate-6.4.1\n"
          ],
          "name": "stdout"
        }
      ]
    },
    {
      "cell_type": "code",
      "metadata": {
        "id": "JGSGlBBiv19h"
      },
      "source": [
        "#Importing neccessary libraries\n",
        "import turicreate as tc"
      ],
      "execution_count": null,
      "outputs": []
    },
    {
      "cell_type": "code",
      "metadata": {
        "id": "NjJtO5TzwY6L"
      },
      "source": [
        "#Converting to Sframe datatype\n",
        "rating_data =  tc.SFrame(train)"
      ],
      "execution_count": null,
      "outputs": []
    },
    {
      "cell_type": "code",
      "metadata": {
        "id": "XaKP18WKuh9w"
      },
      "source": [
        "#Splitting training data to training & Validation data\n",
        "training_data, validation_data = tc.recommender.util.random_split_by_user(rating_data, 'review_profilename', 'beer_beerid')"
      ],
      "execution_count": null,
      "outputs": []
    },
    {
      "cell_type": "markdown",
      "metadata": {
        "id": "wk47p49PQWYt"
      },
      "source": [
        "**BASIC RECOMMENDER MODEL**"
      ]
    },
    {
      "cell_type": "markdown",
      "metadata": {
        "id": "DUellbxAQUeN"
      },
      "source": [
        "There are a variety of machine learning techniques that can be used to build a recommender model. Turi Create provides a method turicreate.recommender.create that will automatically choose an appropriate model for the given data set."
      ]
    },
    {
      "cell_type": "code",
      "metadata": {
        "colab": {
          "base_uri": "https://localhost:8080/",
          "height": 445
        },
        "id": "HipS8cZxMLqM",
        "outputId": "fb2ac807-d455-44ea-9c3b-79ab58d65644"
      },
      "source": [
        "#Building basic recommender model\n",
        "model = tc.recommender.create(training_data, 'review_profilename', 'beer_beerid')"
      ],
      "execution_count": null,
      "outputs": [
        {
          "output_type": "display_data",
          "data": {
            "text/html": [
              "<pre>Warning: Column 'review_overall' ignored.</pre>"
            ],
            "text/plain": [
              "Warning: Column 'review_overall' ignored."
            ]
          },
          "metadata": {
            "tags": []
          }
        },
        {
          "output_type": "display_data",
          "data": {
            "text/html": [
              "<pre> To use one of these as a rating column, specify the column name to be used as target review_overall\" and use a method that allows the use of a target.</pre>"
            ],
            "text/plain": [
              " To use one of these as a rating column, specify the column name to be used as target review_overall\" and use a method that allows the use of a target."
            ]
          },
          "metadata": {
            "tags": []
          }
        },
        {
          "output_type": "display_data",
          "data": {
            "text/html": [
              "<pre>Preparing data set.</pre>"
            ],
            "text/plain": [
              "Preparing data set."
            ]
          },
          "metadata": {
            "tags": []
          }
        },
        {
          "output_type": "display_data",
          "data": {
            "text/html": [
              "<pre>    Data has 173724 observations with 3176 users and 3130 items.</pre>"
            ],
            "text/plain": [
              "    Data has 173724 observations with 3176 users and 3130 items."
            ]
          },
          "metadata": {
            "tags": []
          }
        },
        {
          "output_type": "display_data",
          "data": {
            "text/html": [
              "<pre>    Data prepared in: 0.288601s</pre>"
            ],
            "text/plain": [
              "    Data prepared in: 0.288601s"
            ]
          },
          "metadata": {
            "tags": []
          }
        },
        {
          "output_type": "display_data",
          "data": {
            "text/html": [
              "<pre>Training model from provided data.</pre>"
            ],
            "text/plain": [
              "Training model from provided data."
            ]
          },
          "metadata": {
            "tags": []
          }
        },
        {
          "output_type": "display_data",
          "data": {
            "text/html": [
              "<pre>Gathering per-item and per-user statistics.</pre>"
            ],
            "text/plain": [
              "Gathering per-item and per-user statistics."
            ]
          },
          "metadata": {
            "tags": []
          }
        },
        {
          "output_type": "display_data",
          "data": {
            "text/html": [
              "<pre>+--------------------------------+------------+</pre>"
            ],
            "text/plain": [
              "+--------------------------------+------------+"
            ]
          },
          "metadata": {
            "tags": []
          }
        },
        {
          "output_type": "display_data",
          "data": {
            "text/html": [
              "<pre>| Elapsed Time (Item Statistics) | % Complete |</pre>"
            ],
            "text/plain": [
              "| Elapsed Time (Item Statistics) | % Complete |"
            ]
          },
          "metadata": {
            "tags": []
          }
        },
        {
          "output_type": "display_data",
          "data": {
            "text/html": [
              "<pre>+--------------------------------+------------+</pre>"
            ],
            "text/plain": [
              "+--------------------------------+------------+"
            ]
          },
          "metadata": {
            "tags": []
          }
        },
        {
          "output_type": "display_data",
          "data": {
            "text/html": [
              "<pre>| 3.389ms                        | 31.25      |</pre>"
            ],
            "text/plain": [
              "| 3.389ms                        | 31.25      |"
            ]
          },
          "metadata": {
            "tags": []
          }
        },
        {
          "output_type": "display_data",
          "data": {
            "text/html": [
              "<pre>| 12.814ms                       | 100        |</pre>"
            ],
            "text/plain": [
              "| 12.814ms                       | 100        |"
            ]
          },
          "metadata": {
            "tags": []
          }
        },
        {
          "output_type": "display_data",
          "data": {
            "text/html": [
              "<pre>+--------------------------------+------------+</pre>"
            ],
            "text/plain": [
              "+--------------------------------+------------+"
            ]
          },
          "metadata": {
            "tags": []
          }
        },
        {
          "output_type": "display_data",
          "data": {
            "text/html": [
              "<pre>Setting up lookup tables.</pre>"
            ],
            "text/plain": [
              "Setting up lookup tables."
            ]
          },
          "metadata": {
            "tags": []
          }
        },
        {
          "output_type": "display_data",
          "data": {
            "text/html": [
              "<pre>Processing data in one pass using dense lookup tables.</pre>"
            ],
            "text/plain": [
              "Processing data in one pass using dense lookup tables."
            ]
          },
          "metadata": {
            "tags": []
          }
        },
        {
          "output_type": "display_data",
          "data": {
            "text/html": [
              "<pre>+-------------------------------------+------------------+-----------------+</pre>"
            ],
            "text/plain": [
              "+-------------------------------------+------------------+-----------------+"
            ]
          },
          "metadata": {
            "tags": []
          }
        },
        {
          "output_type": "display_data",
          "data": {
            "text/html": [
              "<pre>| Elapsed Time (Constructing Lookups) | Total % Complete | Items Processed |</pre>"
            ],
            "text/plain": [
              "| Elapsed Time (Constructing Lookups) | Total % Complete | Items Processed |"
            ]
          },
          "metadata": {
            "tags": []
          }
        },
        {
          "output_type": "display_data",
          "data": {
            "text/html": [
              "<pre>+-------------------------------------+------------------+-----------------+</pre>"
            ],
            "text/plain": [
              "+-------------------------------------+------------------+-----------------+"
            ]
          },
          "metadata": {
            "tags": []
          }
        },
        {
          "output_type": "display_data",
          "data": {
            "text/html": [
              "<pre>| 42.902ms                            | 0                | 2               |</pre>"
            ],
            "text/plain": [
              "| 42.902ms                            | 0                | 2               |"
            ]
          },
          "metadata": {
            "tags": []
          }
        },
        {
          "output_type": "display_data",
          "data": {
            "text/html": [
              "<pre>| 527.968ms                           | 100              | 3130            |</pre>"
            ],
            "text/plain": [
              "| 527.968ms                           | 100              | 3130            |"
            ]
          },
          "metadata": {
            "tags": []
          }
        },
        {
          "output_type": "display_data",
          "data": {
            "text/html": [
              "<pre>+-------------------------------------+------------------+-----------------+</pre>"
            ],
            "text/plain": [
              "+-------------------------------------+------------------+-----------------+"
            ]
          },
          "metadata": {
            "tags": []
          }
        },
        {
          "output_type": "display_data",
          "data": {
            "text/html": [
              "<pre>Finalizing lookup tables.</pre>"
            ],
            "text/plain": [
              "Finalizing lookup tables."
            ]
          },
          "metadata": {
            "tags": []
          }
        },
        {
          "output_type": "display_data",
          "data": {
            "text/html": [
              "<pre>Generating candidate set for working with new users.</pre>"
            ],
            "text/plain": [
              "Generating candidate set for working with new users."
            ]
          },
          "metadata": {
            "tags": []
          }
        },
        {
          "output_type": "display_data",
          "data": {
            "text/html": [
              "<pre>Finished training in 1.55589s</pre>"
            ],
            "text/plain": [
              "Finished training in 1.55589s"
            ]
          },
          "metadata": {
            "tags": []
          }
        }
      ]
    },
    {
      "cell_type": "markdown",
      "metadata": {
        "id": "qhX_VvSWQhqi"
      },
      "source": [
        "**Making Recommendations using the model**"
      ]
    },
    {
      "cell_type": "code",
      "metadata": {
        "colab": {
          "base_uri": "https://localhost:8080/",
          "height": 68
        },
        "id": "7O6GbSeIwil7",
        "outputId": "06c0dbdc-1d5f-4e05-8b27-011e0a911bed"
      },
      "source": [
        "results = model.recommend()"
      ],
      "execution_count": null,
      "outputs": [
        {
          "output_type": "display_data",
          "data": {
            "text/html": [
              "<pre>recommendations finished on 1000/3176 queries. users per second: 13314.7</pre>"
            ],
            "text/plain": [
              "recommendations finished on 1000/3176 queries. users per second: 13314.7"
            ]
          },
          "metadata": {
            "tags": []
          }
        },
        {
          "output_type": "display_data",
          "data": {
            "text/html": [
              "<pre>recommendations finished on 2000/3176 queries. users per second: 14770.5</pre>"
            ],
            "text/plain": [
              "recommendations finished on 2000/3176 queries. users per second: 14770.5"
            ]
          },
          "metadata": {
            "tags": []
          }
        },
        {
          "output_type": "display_data",
          "data": {
            "text/html": [
              "<pre>recommendations finished on 3000/3176 queries. users per second: 14818.9</pre>"
            ],
            "text/plain": [
              "recommendations finished on 3000/3176 queries. users per second: 14818.9"
            ]
          },
          "metadata": {
            "tags": []
          }
        }
      ]
    },
    {
      "cell_type": "code",
      "metadata": {
        "colab": {
          "base_uri": "https://localhost:8080/",
          "height": 279
        },
        "id": "ixfeqPWBwrja",
        "outputId": "5f499ab7-6734-45d2-b26c-a3497f2d9a59"
      },
      "source": [
        "#Top 10 BeerID's recommended for each user\n",
        "results"
      ],
      "execution_count": null,
      "outputs": [
        {
          "output_type": "execute_result",
          "data": {
            "text/html": [
              "<div style=\"max-height:1000px;max-width:1500px;overflow:auto;\"><table frame=\"box\" rules=\"cols\">\n",
              "    <tr>\n",
              "        <th style=\"padding-left: 1em; padding-right: 1em; text-align: center\">review_profilename</th>\n",
              "        <th style=\"padding-left: 1em; padding-right: 1em; text-align: center\">beer_beerid</th>\n",
              "        <th style=\"padding-left: 1em; padding-right: 1em; text-align: center\">score</th>\n",
              "        <th style=\"padding-left: 1em; padding-right: 1em; text-align: center\">rank</th>\n",
              "    </tr>\n",
              "    <tr>\n",
              "        <td style=\"padding-left: 1em; padding-right: 1em; text-align: center; vertical-align: top\">bort11</td>\n",
              "        <td style=\"padding-left: 1em; padding-right: 1em; text-align: center; vertical-align: top\">695</td>\n",
              "        <td style=\"padding-left: 1em; padding-right: 1em; text-align: center; vertical-align: top\">0.010373431608217572</td>\n",
              "        <td style=\"padding-left: 1em; padding-right: 1em; text-align: center; vertical-align: top\">1</td>\n",
              "    </tr>\n",
              "    <tr>\n",
              "        <td style=\"padding-left: 1em; padding-right: 1em; text-align: center; vertical-align: top\">bort11</td>\n",
              "        <td style=\"padding-left: 1em; padding-right: 1em; text-align: center; vertical-align: top\">6108</td>\n",
              "        <td style=\"padding-left: 1em; padding-right: 1em; text-align: center; vertical-align: top\">0.010164762308838171</td>\n",
              "        <td style=\"padding-left: 1em; padding-right: 1em; text-align: center; vertical-align: top\">2</td>\n",
              "    </tr>\n",
              "    <tr>\n",
              "        <td style=\"padding-left: 1em; padding-right: 1em; text-align: center; vertical-align: top\">bort11</td>\n",
              "        <td style=\"padding-left: 1em; padding-right: 1em; text-align: center; vertical-align: top\">1346</td>\n",
              "        <td style=\"padding-left: 1em; padding-right: 1em; text-align: center; vertical-align: top\">0.010067659780519819</td>\n",
              "        <td style=\"padding-left: 1em; padding-right: 1em; text-align: center; vertical-align: top\">3</td>\n",
              "    </tr>\n",
              "    <tr>\n",
              "        <td style=\"padding-left: 1em; padding-right: 1em; text-align: center; vertical-align: top\">bort11</td>\n",
              "        <td style=\"padding-left: 1em; padding-right: 1em; text-align: center; vertical-align: top\">276</td>\n",
              "        <td style=\"padding-left: 1em; padding-right: 1em; text-align: center; vertical-align: top\">0.009813409332835346</td>\n",
              "        <td style=\"padding-left: 1em; padding-right: 1em; text-align: center; vertical-align: top\">4</td>\n",
              "    </tr>\n",
              "    <tr>\n",
              "        <td style=\"padding-left: 1em; padding-right: 1em; text-align: center; vertical-align: top\">bort11</td>\n",
              "        <td style=\"padding-left: 1em; padding-right: 1em; text-align: center; vertical-align: top\">88</td>\n",
              "        <td style=\"padding-left: 1em; padding-right: 1em; text-align: center; vertical-align: top\">0.009803933287979266</td>\n",
              "        <td style=\"padding-left: 1em; padding-right: 1em; text-align: center; vertical-align: top\">5</td>\n",
              "    </tr>\n",
              "    <tr>\n",
              "        <td style=\"padding-left: 1em; padding-right: 1em; text-align: center; vertical-align: top\">bort11</td>\n",
              "        <td style=\"padding-left: 1em; padding-right: 1em; text-align: center; vertical-align: top\">30288</td>\n",
              "        <td style=\"padding-left: 1em; padding-right: 1em; text-align: center; vertical-align: top\">0.009759174027574171</td>\n",
              "        <td style=\"padding-left: 1em; padding-right: 1em; text-align: center; vertical-align: top\">6</td>\n",
              "    </tr>\n",
              "    <tr>\n",
              "        <td style=\"padding-left: 1em; padding-right: 1em; text-align: center; vertical-align: top\">bort11</td>\n",
              "        <td style=\"padding-left: 1em; padding-right: 1em; text-align: center; vertical-align: top\">2093</td>\n",
              "        <td style=\"padding-left: 1em; padding-right: 1em; text-align: center; vertical-align: top\">0.009218643017865102</td>\n",
              "        <td style=\"padding-left: 1em; padding-right: 1em; text-align: center; vertical-align: top\">7</td>\n",
              "    </tr>\n",
              "    <tr>\n",
              "        <td style=\"padding-left: 1em; padding-right: 1em; text-align: center; vertical-align: top\">bort11</td>\n",
              "        <td style=\"padding-left: 1em; padding-right: 1em; text-align: center; vertical-align: top\">102</td>\n",
              "        <td style=\"padding-left: 1em; padding-right: 1em; text-align: center; vertical-align: top\">0.008995275978648335</td>\n",
              "        <td style=\"padding-left: 1em; padding-right: 1em; text-align: center; vertical-align: top\">8</td>\n",
              "    </tr>\n",
              "    <tr>\n",
              "        <td style=\"padding-left: 1em; padding-right: 1em; text-align: center; vertical-align: top\">bort11</td>\n",
              "        <td style=\"padding-left: 1em; padding-right: 1em; text-align: center; vertical-align: top\">680</td>\n",
              "        <td style=\"padding-left: 1em; padding-right: 1em; text-align: center; vertical-align: top\">0.008833432963135046</td>\n",
              "        <td style=\"padding-left: 1em; padding-right: 1em; text-align: center; vertical-align: top\">9</td>\n",
              "    </tr>\n",
              "    <tr>\n",
              "        <td style=\"padding-left: 1em; padding-right: 1em; text-align: center; vertical-align: top\">bort11</td>\n",
              "        <td style=\"padding-left: 1em; padding-right: 1em; text-align: center; vertical-align: top\">1153</td>\n",
              "        <td style=\"padding-left: 1em; padding-right: 1em; text-align: center; vertical-align: top\">0.008819432980423673</td>\n",
              "        <td style=\"padding-left: 1em; padding-right: 1em; text-align: center; vertical-align: top\">10</td>\n",
              "    </tr>\n",
              "</table>\n",
              "[31760 rows x 4 columns]<br/>Note: Only the head of the SFrame is printed.<br/>You can use print_rows(num_rows=m, num_columns=n) to print more rows and columns.\n",
              "</div>"
            ],
            "text/plain": [
              "Columns:\n",
              "\treview_profilename\tstr\n",
              "\tbeer_beerid\tint\n",
              "\tscore\tfloat\n",
              "\trank\tint\n",
              "\n",
              "Rows: 31760\n",
              "\n",
              "Data:\n",
              "+--------------------+-------------+----------------------+------+\n",
              "| review_profilename | beer_beerid |        score         | rank |\n",
              "+--------------------+-------------+----------------------+------+\n",
              "|       bort11       |     695     | 0.010373431608217572 |  1   |\n",
              "|       bort11       |     6108    | 0.010164762308838171 |  2   |\n",
              "|       bort11       |     1346    | 0.010067659780519819 |  3   |\n",
              "|       bort11       |     276     | 0.009813409332835346 |  4   |\n",
              "|       bort11       |      88     | 0.009803933287979266 |  5   |\n",
              "|       bort11       |    30288    | 0.009759174027574171 |  6   |\n",
              "|       bort11       |     2093    | 0.009218643017865102 |  7   |\n",
              "|       bort11       |     102     | 0.008995275978648335 |  8   |\n",
              "|       bort11       |     680     | 0.008833432963135046 |  9   |\n",
              "|       bort11       |     1153    | 0.008819432980423673 |  10  |\n",
              "+--------------------+-------------+----------------------+------+\n",
              "[31760 rows x 4 columns]\n",
              "Note: Only the head of the SFrame is printed.\n",
              "You can use print_rows(num_rows=m, num_columns=n) to print more rows and columns."
            ]
          },
          "metadata": {
            "tags": []
          },
          "execution_count": 84
        }
      ]
    },
    {
      "cell_type": "code",
      "metadata": {
        "id": "OJEeBRVDxWm4"
      },
      "source": [
        "#Checking the beer id's recommended for specified user\n",
        "recommendations = model.recommend(users=['DrJay'])"
      ],
      "execution_count": null,
      "outputs": []
    },
    {
      "cell_type": "code",
      "metadata": {
        "colab": {
          "base_uri": "https://localhost:8080/",
          "height": 245
        },
        "id": "AW8DRHeoxaHs",
        "outputId": "3a38e91f-c484-41e2-977c-796d5d73f767"
      },
      "source": [
        "recommendations"
      ],
      "execution_count": null,
      "outputs": [
        {
          "output_type": "execute_result",
          "data": {
            "text/html": [
              "<div style=\"max-height:1000px;max-width:1500px;overflow:auto;\"><table frame=\"box\" rules=\"cols\">\n",
              "    <tr>\n",
              "        <th style=\"padding-left: 1em; padding-right: 1em; text-align: center\">review_profilename</th>\n",
              "        <th style=\"padding-left: 1em; padding-right: 1em; text-align: center\">beer_beerid</th>\n",
              "        <th style=\"padding-left: 1em; padding-right: 1em; text-align: center\">score</th>\n",
              "        <th style=\"padding-left: 1em; padding-right: 1em; text-align: center\">rank</th>\n",
              "    </tr>\n",
              "    <tr>\n",
              "        <td style=\"padding-left: 1em; padding-right: 1em; text-align: center; vertical-align: top\">DrJay</td>\n",
              "        <td style=\"padding-left: 1em; padding-right: 1em; text-align: center; vertical-align: top\">1708</td>\n",
              "        <td style=\"padding-left: 1em; padding-right: 1em; text-align: center; vertical-align: top\">0.00679619272402228</td>\n",
              "        <td style=\"padding-left: 1em; padding-right: 1em; text-align: center; vertical-align: top\">1</td>\n",
              "    </tr>\n",
              "    <tr>\n",
              "        <td style=\"padding-left: 1em; padding-right: 1em; text-align: center; vertical-align: top\">DrJay</td>\n",
              "        <td style=\"padding-left: 1em; padding-right: 1em; text-align: center; vertical-align: top\">92</td>\n",
              "        <td style=\"padding-left: 1em; padding-right: 1em; text-align: center; vertical-align: top\">0.005597614444321416</td>\n",
              "        <td style=\"padding-left: 1em; padding-right: 1em; text-align: center; vertical-align: top\">2</td>\n",
              "    </tr>\n",
              "    <tr>\n",
              "        <td style=\"padding-left: 1em; padding-right: 1em; text-align: center; vertical-align: top\">DrJay</td>\n",
              "        <td style=\"padding-left: 1em; padding-right: 1em; text-align: center; vertical-align: top\">102</td>\n",
              "        <td style=\"padding-left: 1em; padding-right: 1em; text-align: center; vertical-align: top\">0.0055879580487105925</td>\n",
              "        <td style=\"padding-left: 1em; padding-right: 1em; text-align: center; vertical-align: top\">3</td>\n",
              "    </tr>\n",
              "    <tr>\n",
              "        <td style=\"padding-left: 1em; padding-right: 1em; text-align: center; vertical-align: top\">DrJay</td>\n",
              "        <td style=\"padding-left: 1em; padding-right: 1em; text-align: center; vertical-align: top\">141</td>\n",
              "        <td style=\"padding-left: 1em; padding-right: 1em; text-align: center; vertical-align: top\">0.005582341252649584</td>\n",
              "        <td style=\"padding-left: 1em; padding-right: 1em; text-align: center; vertical-align: top\">4</td>\n",
              "    </tr>\n",
              "    <tr>\n",
              "        <td style=\"padding-left: 1em; padding-right: 1em; text-align: center; vertical-align: top\">DrJay</td>\n",
              "        <td style=\"padding-left: 1em; padding-right: 1em; text-align: center; vertical-align: top\">2093</td>\n",
              "        <td style=\"padding-left: 1em; padding-right: 1em; text-align: center; vertical-align: top\">0.005531952726796657</td>\n",
              "        <td style=\"padding-left: 1em; padding-right: 1em; text-align: center; vertical-align: top\">5</td>\n",
              "    </tr>\n",
              "    <tr>\n",
              "        <td style=\"padding-left: 1em; padding-right: 1em; text-align: center; vertical-align: top\">DrJay</td>\n",
              "        <td style=\"padding-left: 1em; padding-right: 1em; text-align: center; vertical-align: top\">1118</td>\n",
              "        <td style=\"padding-left: 1em; padding-right: 1em; text-align: center; vertical-align: top\">0.005517597535285808</td>\n",
              "        <td style=\"padding-left: 1em; padding-right: 1em; text-align: center; vertical-align: top\">6</td>\n",
              "    </tr>\n",
              "    <tr>\n",
              "        <td style=\"padding-left: 1em; padding-right: 1em; text-align: center; vertical-align: top\">DrJay</td>\n",
              "        <td style=\"padding-left: 1em; padding-right: 1em; text-align: center; vertical-align: top\">1180</td>\n",
              "        <td style=\"padding-left: 1em; padding-right: 1em; text-align: center; vertical-align: top\">0.005266150577360813</td>\n",
              "        <td style=\"padding-left: 1em; padding-right: 1em; text-align: center; vertical-align: top\">7</td>\n",
              "    </tr>\n",
              "    <tr>\n",
              "        <td style=\"padding-left: 1em; padding-right: 1em; text-align: center; vertical-align: top\">DrJay</td>\n",
              "        <td style=\"padding-left: 1em; padding-right: 1em; text-align: center; vertical-align: top\">6108</td>\n",
              "        <td style=\"padding-left: 1em; padding-right: 1em; text-align: center; vertical-align: top\">0.005241307627312756</td>\n",
              "        <td style=\"padding-left: 1em; padding-right: 1em; text-align: center; vertical-align: top\">8</td>\n",
              "    </tr>\n",
              "    <tr>\n",
              "        <td style=\"padding-left: 1em; padding-right: 1em; text-align: center; vertical-align: top\">DrJay</td>\n",
              "        <td style=\"padding-left: 1em; padding-right: 1em; text-align: center; vertical-align: top\">1867</td>\n",
              "        <td style=\"padding-left: 1em; padding-right: 1em; text-align: center; vertical-align: top\">0.0052179078187198</td>\n",
              "        <td style=\"padding-left: 1em; padding-right: 1em; text-align: center; vertical-align: top\">9</td>\n",
              "    </tr>\n",
              "    <tr>\n",
              "        <td style=\"padding-left: 1em; padding-right: 1em; text-align: center; vertical-align: top\">DrJay</td>\n",
              "        <td style=\"padding-left: 1em; padding-right: 1em; text-align: center; vertical-align: top\">1153</td>\n",
              "        <td style=\"padding-left: 1em; padding-right: 1em; text-align: center; vertical-align: top\">0.005154243632320135</td>\n",
              "        <td style=\"padding-left: 1em; padding-right: 1em; text-align: center; vertical-align: top\">10</td>\n",
              "    </tr>\n",
              "</table>\n",
              "[10 rows x 4 columns]<br/>\n",
              "</div>"
            ],
            "text/plain": [
              "Columns:\n",
              "\treview_profilename\tstr\n",
              "\tbeer_beerid\tint\n",
              "\tscore\tfloat\n",
              "\trank\tint\n",
              "\n",
              "Rows: 10\n",
              "\n",
              "Data:\n",
              "+--------------------+-------------+-----------------------+------+\n",
              "| review_profilename | beer_beerid |         score         | rank |\n",
              "+--------------------+-------------+-----------------------+------+\n",
              "|       DrJay        |     1708    |  0.00679619272402228  |  1   |\n",
              "|       DrJay        |      92     |  0.005597614444321416 |  2   |\n",
              "|       DrJay        |     102     | 0.0055879580487105925 |  3   |\n",
              "|       DrJay        |     141     |  0.005582341252649584 |  4   |\n",
              "|       DrJay        |     2093    |  0.005531952726796657 |  5   |\n",
              "|       DrJay        |     1118    |  0.005517597535285808 |  6   |\n",
              "|       DrJay        |     1180    |  0.005266150577360813 |  7   |\n",
              "|       DrJay        |     6108    |  0.005241307627312756 |  8   |\n",
              "|       DrJay        |     1867    |   0.0052179078187198  |  9   |\n",
              "|       DrJay        |     1153    |  0.005154243632320135 |  10  |\n",
              "+--------------------+-------------+-----------------------+------+\n",
              "[10 rows x 4 columns]"
            ]
          },
          "metadata": {
            "tags": []
          },
          "execution_count": 86
        }
      ]
    },
    {
      "cell_type": "markdown",
      "metadata": {
        "id": "Mco3gp067YfA"
      },
      "source": [
        "**Popularity based recommendation system**"
      ]
    },
    {
      "cell_type": "markdown",
      "metadata": {
        "id": "eVlODhztNrXS"
      },
      "source": [
        "In this system, beer id's are recommended based on the popularity of the item. Here, the recommendations are same to all the users. For example, it is recommending the top beers present in the dataset to all the users."
      ]
    },
    {
      "cell_type": "code",
      "metadata": {
        "colab": {
          "base_uri": "https://localhost:8080/",
          "height": 85
        },
        "id": "_oUG1Bmj7Juo",
        "outputId": "a6f8213f-394d-4c8d-ed6a-1923baee4155"
      },
      "source": [
        "popularity_model=tc.popularity_recommender.create(training_data,user_id='review_profilename',item_id='beer_beerid',target='review_overall')"
      ],
      "execution_count": null,
      "outputs": [
        {
          "output_type": "display_data",
          "data": {
            "text/html": [
              "<pre>Preparing data set.</pre>"
            ],
            "text/plain": [
              "Preparing data set."
            ]
          },
          "metadata": {
            "tags": []
          }
        },
        {
          "output_type": "display_data",
          "data": {
            "text/html": [
              "<pre>    Data has 173724 observations with 3176 users and 3130 items.</pre>"
            ],
            "text/plain": [
              "    Data has 173724 observations with 3176 users and 3130 items."
            ]
          },
          "metadata": {
            "tags": []
          }
        },
        {
          "output_type": "display_data",
          "data": {
            "text/html": [
              "<pre>    Data prepared in: 0.2227s</pre>"
            ],
            "text/plain": [
              "    Data prepared in: 0.2227s"
            ]
          },
          "metadata": {
            "tags": []
          }
        },
        {
          "output_type": "display_data",
          "data": {
            "text/html": [
              "<pre>173724 observations to process; with 3130 unique items.</pre>"
            ],
            "text/plain": [
              "173724 observations to process; with 3130 unique items."
            ]
          },
          "metadata": {
            "tags": []
          }
        }
      ]
    },
    {
      "cell_type": "code",
      "metadata": {
        "colab": {
          "base_uri": "https://localhost:8080/",
          "height": 595
        },
        "id": "huieuu1R72SM",
        "outputId": "ad106b98-89ba-4ed0-9a07-aa8b9cf63f55"
      },
      "source": [
        "#Return top K recommendations for users\n",
        "popularity_recomm = popularity_model.recommend(k=5)\n",
        "popularity_recomm.print_rows(num_rows=25)"
      ],
      "execution_count": null,
      "outputs": [
        {
          "output_type": "display_data",
          "data": {
            "text/html": [
              "<pre>recommendations finished on 1000/3176 queries. users per second: 25582</pre>"
            ],
            "text/plain": [
              "recommendations finished on 1000/3176 queries. users per second: 25582"
            ]
          },
          "metadata": {
            "tags": []
          }
        },
        {
          "output_type": "display_data",
          "data": {
            "text/html": [
              "<pre>recommendations finished on 2000/3176 queries. users per second: 27536.8</pre>"
            ],
            "text/plain": [
              "recommendations finished on 2000/3176 queries. users per second: 27536.8"
            ]
          },
          "metadata": {
            "tags": []
          }
        },
        {
          "output_type": "display_data",
          "data": {
            "text/html": [
              "<pre>recommendations finished on 3000/3176 queries. users per second: 28484.1</pre>"
            ],
            "text/plain": [
              "recommendations finished on 3000/3176 queries. users per second: 28484.1"
            ]
          },
          "metadata": {
            "tags": []
          }
        },
        {
          "output_type": "stream",
          "text": [
            "+--------------------+-------------+-------------------+------+\n",
            "| review_profilename | beer_beerid |       score       | rank |\n",
            "+--------------------+-------------+-------------------+------+\n",
            "|       bort11       |    41928    |        4.68       |  1   |\n",
            "|       bort11       |    36316    | 4.642857142857143 |  2   |\n",
            "|       bort11       |    16814    |  4.62280701754386 |  3   |\n",
            "|       bort11       |     1545    | 4.589473684210526 |  4   |\n",
            "|       bort11       |    21690    | 4.588888888888889 |  5   |\n",
            "|       Treebs       |    41928    |        4.68       |  1   |\n",
            "|       Treebs       |    36316    | 4.642857142857143 |  2   |\n",
            "|       Treebs       |     1545    | 4.589473684210526 |  3   |\n",
            "|       Treebs       |    21690    | 4.588888888888889 |  4   |\n",
            "|       Treebs       |    22173    | 4.586956521739131 |  5   |\n",
            "|       DrJay        |    41928    |        4.68       |  1   |\n",
            "|       DrJay        |    36316    | 4.642857142857143 |  2   |\n",
            "|       DrJay        |    16814    |  4.62280701754386 |  3   |\n",
            "|       DrJay        |     1545    | 4.589473684210526 |  4   |\n",
            "|       DrJay        |    21690    | 4.588888888888889 |  5   |\n",
            "|     beerthulhu     |    41928    |        4.68       |  1   |\n",
            "|     beerthulhu     |    36316    | 4.642857142857143 |  2   |\n",
            "|     beerthulhu     |    16814    |  4.62280701754386 |  3   |\n",
            "|     beerthulhu     |     1545    | 4.589473684210526 |  4   |\n",
            "|     beerthulhu     |    21690    | 4.588888888888889 |  5   |\n",
            "|      yesyouam      |    41928    |        4.68       |  1   |\n",
            "|      yesyouam      |    36316    | 4.642857142857143 |  2   |\n",
            "|      yesyouam      |    16814    |  4.62280701754386 |  3   |\n",
            "|      yesyouam      |     1545    | 4.589473684210526 |  4   |\n",
            "|      yesyouam      |    21690    | 4.588888888888889 |  5   |\n",
            "+--------------------+-------------+-------------------+------+\n",
            "[15880 rows x 4 columns]\n",
            "\n"
          ],
          "name": "stdout"
        }
      ]
    },
    {
      "cell_type": "markdown",
      "metadata": {
        "id": "MuHOOhRD5TnX"
      },
      "source": [
        " **Similarity based models**"
      ]
    },
    {
      "cell_type": "markdown",
      "metadata": {
        "id": "iq8tuzilOJjP"
      },
      "source": [
        "In this recommendation system, the beer id is recommended based on the degree of similarity between items.This model ranks an item according to its similarity to other items observed for the users."
      ]
    },
    {
      "cell_type": "code",
      "metadata": {
        "colab": {
          "base_uri": "https://localhost:8080/",
          "height": 969
        },
        "id": "c6fZunS4493O",
        "outputId": "71fb3c5b-c675-43e6-8bc8-c8839388884d"
      },
      "source": [
        "#Train Model\n",
        "item_sim_model = tc.item_similarity_recommender.create(training_data,user_id='review_profilename',item_id='beer_beerid',target='review_overall', similarity_type='cosine')\n",
        "#Make Recommendations:\n",
        "item_sim_recomm = item_sim_model.recommend(k=5)\n",
        "item_sim_recomm.print_rows(num_rows=25)"
      ],
      "execution_count": null,
      "outputs": [
        {
          "output_type": "display_data",
          "data": {
            "text/html": [
              "<pre>Preparing data set.</pre>"
            ],
            "text/plain": [
              "Preparing data set."
            ]
          },
          "metadata": {
            "tags": []
          }
        },
        {
          "output_type": "display_data",
          "data": {
            "text/html": [
              "<pre>    Data has 173724 observations with 3176 users and 3130 items.</pre>"
            ],
            "text/plain": [
              "    Data has 173724 observations with 3176 users and 3130 items."
            ]
          },
          "metadata": {
            "tags": []
          }
        },
        {
          "output_type": "display_data",
          "data": {
            "text/html": [
              "<pre>    Data prepared in: 0.231779s</pre>"
            ],
            "text/plain": [
              "    Data prepared in: 0.231779s"
            ]
          },
          "metadata": {
            "tags": []
          }
        },
        {
          "output_type": "display_data",
          "data": {
            "text/html": [
              "<pre>Training model from provided data.</pre>"
            ],
            "text/plain": [
              "Training model from provided data."
            ]
          },
          "metadata": {
            "tags": []
          }
        },
        {
          "output_type": "display_data",
          "data": {
            "text/html": [
              "<pre>Gathering per-item and per-user statistics.</pre>"
            ],
            "text/plain": [
              "Gathering per-item and per-user statistics."
            ]
          },
          "metadata": {
            "tags": []
          }
        },
        {
          "output_type": "display_data",
          "data": {
            "text/html": [
              "<pre>+--------------------------------+------------+</pre>"
            ],
            "text/plain": [
              "+--------------------------------+------------+"
            ]
          },
          "metadata": {
            "tags": []
          }
        },
        {
          "output_type": "display_data",
          "data": {
            "text/html": [
              "<pre>| Elapsed Time (Item Statistics) | % Complete |</pre>"
            ],
            "text/plain": [
              "| Elapsed Time (Item Statistics) | % Complete |"
            ]
          },
          "metadata": {
            "tags": []
          }
        },
        {
          "output_type": "display_data",
          "data": {
            "text/html": [
              "<pre>+--------------------------------+------------+</pre>"
            ],
            "text/plain": [
              "+--------------------------------+------------+"
            ]
          },
          "metadata": {
            "tags": []
          }
        },
        {
          "output_type": "display_data",
          "data": {
            "text/html": [
              "<pre>| 18.069ms                       | 31.25      |</pre>"
            ],
            "text/plain": [
              "| 18.069ms                       | 31.25      |"
            ]
          },
          "metadata": {
            "tags": []
          }
        },
        {
          "output_type": "display_data",
          "data": {
            "text/html": [
              "<pre>| 25.358ms                       | 100        |</pre>"
            ],
            "text/plain": [
              "| 25.358ms                       | 100        |"
            ]
          },
          "metadata": {
            "tags": []
          }
        },
        {
          "output_type": "display_data",
          "data": {
            "text/html": [
              "<pre>+--------------------------------+------------+</pre>"
            ],
            "text/plain": [
              "+--------------------------------+------------+"
            ]
          },
          "metadata": {
            "tags": []
          }
        },
        {
          "output_type": "display_data",
          "data": {
            "text/html": [
              "<pre>Setting up lookup tables.</pre>"
            ],
            "text/plain": [
              "Setting up lookup tables."
            ]
          },
          "metadata": {
            "tags": []
          }
        },
        {
          "output_type": "display_data",
          "data": {
            "text/html": [
              "<pre>Processing data in one pass using dense lookup tables.</pre>"
            ],
            "text/plain": [
              "Processing data in one pass using dense lookup tables."
            ]
          },
          "metadata": {
            "tags": []
          }
        },
        {
          "output_type": "display_data",
          "data": {
            "text/html": [
              "<pre>+-------------------------------------+------------------+-----------------+</pre>"
            ],
            "text/plain": [
              "+-------------------------------------+------------------+-----------------+"
            ]
          },
          "metadata": {
            "tags": []
          }
        },
        {
          "output_type": "display_data",
          "data": {
            "text/html": [
              "<pre>| Elapsed Time (Constructing Lookups) | Total % Complete | Items Processed |</pre>"
            ],
            "text/plain": [
              "| Elapsed Time (Constructing Lookups) | Total % Complete | Items Processed |"
            ]
          },
          "metadata": {
            "tags": []
          }
        },
        {
          "output_type": "display_data",
          "data": {
            "text/html": [
              "<pre>+-------------------------------------+------------------+-----------------+</pre>"
            ],
            "text/plain": [
              "+-------------------------------------+------------------+-----------------+"
            ]
          },
          "metadata": {
            "tags": []
          }
        },
        {
          "output_type": "display_data",
          "data": {
            "text/html": [
              "<pre>| 60.605ms                            | 0                | 2               |</pre>"
            ],
            "text/plain": [
              "| 60.605ms                            | 0                | 2               |"
            ]
          },
          "metadata": {
            "tags": []
          }
        },
        {
          "output_type": "display_data",
          "data": {
            "text/html": [
              "<pre>| 571.121ms                           | 100              | 3130            |</pre>"
            ],
            "text/plain": [
              "| 571.121ms                           | 100              | 3130            |"
            ]
          },
          "metadata": {
            "tags": []
          }
        },
        {
          "output_type": "display_data",
          "data": {
            "text/html": [
              "<pre>+-------------------------------------+------------------+-----------------+</pre>"
            ],
            "text/plain": [
              "+-------------------------------------+------------------+-----------------+"
            ]
          },
          "metadata": {
            "tags": []
          }
        },
        {
          "output_type": "display_data",
          "data": {
            "text/html": [
              "<pre>Finalizing lookup tables.</pre>"
            ],
            "text/plain": [
              "Finalizing lookup tables."
            ]
          },
          "metadata": {
            "tags": []
          }
        },
        {
          "output_type": "display_data",
          "data": {
            "text/html": [
              "<pre>Generating candidate set for working with new users.</pre>"
            ],
            "text/plain": [
              "Generating candidate set for working with new users."
            ]
          },
          "metadata": {
            "tags": []
          }
        },
        {
          "output_type": "display_data",
          "data": {
            "text/html": [
              "<pre>Finished training in 0.603801s</pre>"
            ],
            "text/plain": [
              "Finished training in 0.603801s"
            ]
          },
          "metadata": {
            "tags": []
          }
        },
        {
          "output_type": "display_data",
          "data": {
            "text/html": [
              "<pre>recommendations finished on 1000/3176 queries. users per second: 14841.4</pre>"
            ],
            "text/plain": [
              "recommendations finished on 1000/3176 queries. users per second: 14841.4"
            ]
          },
          "metadata": {
            "tags": []
          }
        },
        {
          "output_type": "display_data",
          "data": {
            "text/html": [
              "<pre>recommendations finished on 2000/3176 queries. users per second: 15741.7</pre>"
            ],
            "text/plain": [
              "recommendations finished on 2000/3176 queries. users per second: 15741.7"
            ]
          },
          "metadata": {
            "tags": []
          }
        },
        {
          "output_type": "display_data",
          "data": {
            "text/html": [
              "<pre>recommendations finished on 3000/3176 queries. users per second: 15702.4</pre>"
            ],
            "text/plain": [
              "recommendations finished on 3000/3176 queries. users per second: 15702.4"
            ]
          },
          "metadata": {
            "tags": []
          }
        },
        {
          "output_type": "stream",
          "text": [
            "+--------------------+-------------+----------------------+------+\n",
            "| review_profilename | beer_beerid |        score         | rank |\n",
            "+--------------------+-------------+----------------------+------+\n",
            "|       bort11       |     2093    | 0.09877363312135048  |  1   |\n",
            "|       bort11       |      88     | 0.09616678625071814  |  2   |\n",
            "|       bort11       |     6108    |  0.0810000683189532  |  3   |\n",
            "|       bort11       |     695     | 0.07869808061407246  |  4   |\n",
            "|       bort11       |      92     | 0.07262841277166245  |  5   |\n",
            "|       Treebs       |    11757    | 0.18780536311013357  |  1   |\n",
            "|       Treebs       |    43217    | 0.14043461141132174  |  2   |\n",
            "|       Treebs       |     7971    |  0.1302881950423831  |  3   |\n",
            "|       Treebs       |    29619    | 0.11820619730722337  |  4   |\n",
            "|       Treebs       |     6368    | 0.10746852556864421  |  5   |\n",
            "|       DrJay        |     1708    | 0.059975760798472014 |  1   |\n",
            "|       DrJay        |     2093    | 0.05908316307351492  |  2   |\n",
            "|       DrJay        |     6108    |  0.0465643507840465  |  3   |\n",
            "|       DrJay        |     3916    | 0.04576677881652095  |  4   |\n",
            "|       DrJay        |      92     | 0.045635682277963066 |  5   |\n",
            "|     beerthulhu     |     2093    | 0.052468663495447904 |  1   |\n",
            "|     beerthulhu     |     1708    | 0.051225902098748416 |  2   |\n",
            "|     beerthulhu     |    30288    | 0.04839959802726904  |  3   |\n",
            "|     beerthulhu     |      92     | 0.045662719963325396 |  4   |\n",
            "|     beerthulhu     |     1153    |  0.0445659551769495  |  5   |\n",
            "|      yesyouam      |     2093    | 0.07317025584784168  |  1   |\n",
            "|      yesyouam      |    14916    |  0.064380437309979   |  2   |\n",
            "|      yesyouam      |     276     | 0.06146373281701963  |  3   |\n",
            "|      yesyouam      |     4083    | 0.05960529833509211  |  4   |\n",
            "|      yesyouam      |     1013    | 0.05923680778135333  |  5   |\n",
            "+--------------------+-------------+----------------------+------+\n",
            "[15880 rows x 4 columns]\n",
            "\n"
          ],
          "name": "stdout"
        }
      ]
    },
    {
      "cell_type": "markdown",
      "metadata": {
        "id": "Hckcyip7NA5Q"
      },
      "source": [
        "**Evaluating Models**"
      ]
    },
    {
      "cell_type": "code",
      "metadata": {
        "id": "LEdslsur9Lu2"
      },
      "source": [
        "#Converting test data df to scalable frame\n",
        "test_data =  tc.SFrame(test)"
      ],
      "execution_count": null,
      "outputs": []
    },
    {
      "cell_type": "code",
      "metadata": {
        "colab": {
          "base_uri": "https://localhost:8080/",
          "height": 1000
        },
        "id": "GUlECENu9e01",
        "outputId": "bf840b57-9a46-4086-a187-86a06cfd0983"
      },
      "source": [
        "#Evaluating the 3 models built\n",
        "model.evaluate(test_data)\n",
        "popularity_model.evaluate(test_data)\n",
        "item_sim_model.evaluate(test_data)"
      ],
      "execution_count": null,
      "outputs": [
        {
          "output_type": "display_data",
          "data": {
            "text/html": [
              "<pre>recommendations finished on 1000/3175 queries. users per second: 12205.7</pre>"
            ],
            "text/plain": [
              "recommendations finished on 1000/3175 queries. users per second: 12205.7"
            ]
          },
          "metadata": {
            "tags": []
          }
        },
        {
          "output_type": "display_data",
          "data": {
            "text/html": [
              "<pre>recommendations finished on 2000/3175 queries. users per second: 11981.7</pre>"
            ],
            "text/plain": [
              "recommendations finished on 2000/3175 queries. users per second: 11981.7"
            ]
          },
          "metadata": {
            "tags": []
          }
        },
        {
          "output_type": "display_data",
          "data": {
            "text/html": [
              "<pre>recommendations finished on 3000/3175 queries. users per second: 11770.9</pre>"
            ],
            "text/plain": [
              "recommendations finished on 3000/3175 queries. users per second: 11770.9"
            ]
          },
          "metadata": {
            "tags": []
          }
        },
        {
          "output_type": "stream",
          "text": [
            "WARNING:root:Model trained without a target. Skipping RMSE computation.\n"
          ],
          "name": "stderr"
        },
        {
          "output_type": "stream",
          "text": [
            "\n",
            "Precision and recall summary statistics by cutoff\n",
            "+--------+---------------------+----------------------+\n",
            "| cutoff |    mean_precision   |     mean_recall      |\n",
            "+--------+---------------------+----------------------+\n",
            "|   1    | 0.05291338582677167 | 0.003009018216868835 |\n",
            "|   2    | 0.05653543307086615 | 0.006195502029990611 |\n",
            "|   3    | 0.05501312335958011 | 0.008698929176139049 |\n",
            "|   4    | 0.05716535433070866 | 0.011993822383760276 |\n",
            "|   5    | 0.05700787401574804 | 0.01502137132764241  |\n",
            "|   6    | 0.05690288713910767 | 0.017923740300676082 |\n",
            "|   7    | 0.05732283464566913 | 0.021254448776595165 |\n",
            "|   8    | 0.05732283464566927 | 0.02403350672706564  |\n",
            "|   9    | 0.05634295713035888 | 0.026411043901285097 |\n",
            "|   10   | 0.05606299212598422 | 0.029099514804674143 |\n",
            "+--------+---------------------+----------------------+\n",
            "[10 rows x 3 columns]\n",
            "\n"
          ],
          "name": "stdout"
        },
        {
          "output_type": "display_data",
          "data": {
            "text/html": [
              "<pre>recommendations finished on 1000/3175 queries. users per second: 17752.8</pre>"
            ],
            "text/plain": [
              "recommendations finished on 1000/3175 queries. users per second: 17752.8"
            ]
          },
          "metadata": {
            "tags": []
          }
        },
        {
          "output_type": "display_data",
          "data": {
            "text/html": [
              "<pre>recommendations finished on 2000/3175 queries. users per second: 17382.7</pre>"
            ],
            "text/plain": [
              "recommendations finished on 2000/3175 queries. users per second: 17382.7"
            ]
          },
          "metadata": {
            "tags": []
          }
        },
        {
          "output_type": "display_data",
          "data": {
            "text/html": [
              "<pre>recommendations finished on 3000/3175 queries. users per second: 17749.8</pre>"
            ],
            "text/plain": [
              "recommendations finished on 3000/3175 queries. users per second: 17749.8"
            ]
          },
          "metadata": {
            "tags": []
          }
        },
        {
          "output_type": "stream",
          "text": [
            "\n",
            "Precision and recall summary statistics by cutoff\n",
            "+--------+-----------------------+------------------------+\n",
            "| cutoff |     mean_precision    |      mean_recall       |\n",
            "+--------+-----------------------+------------------------+\n",
            "|   1    | 0.0040944881889763765 | 0.00011909711729543674 |\n",
            "|   2    |  0.003464566929133857 | 0.00021683762682792528 |\n",
            "|   3    | 0.0052493438320209964 | 0.0006565706198136642  |\n",
            "|   4    |  0.010472440944881901 |  0.002022419557271735  |\n",
            "|   5    |  0.010078740157480306 | 0.0023528096810240765  |\n",
            "|   6    |  0.009186351706036763 | 0.0025276025639706873  |\n",
            "|   7    |  0.008908886389201325 |  0.002839999335904275  |\n",
            "|   8    |  0.010078740157480314 | 0.0036083152167726883  |\n",
            "|   9    |  0.012598425196850407 |  0.005202120428229986  |\n",
            "|   10   |  0.012000000000000038 |  0.005467437893839453  |\n",
            "+--------+-----------------------+------------------------+\n",
            "[10 rows x 3 columns]\n",
            "\n",
            "\n",
            "Overall RMSE: 0.5892171049888281\n",
            "\n",
            "Per User RMSE (best)\n",
            "+--------------------+----------------------+-------+\n",
            "| review_profilename |         rmse         | count |\n",
            "+--------------------+----------------------+-------+\n",
            "|    rodenbach99     | 0.061111111111110894 |   1   |\n",
            "+--------------------+----------------------+-------+\n",
            "[1 rows x 3 columns]\n",
            "\n",
            "\n",
            "Per User RMSE (worst)\n",
            "+--------------------+-------------------+-------+\n",
            "| review_profilename |        rmse       | count |\n",
            "+--------------------+-------------------+-------+\n",
            "|  B967ierhunter177  | 2.099401866921886 |   6   |\n",
            "+--------------------+-------------------+-------+\n",
            "[1 rows x 3 columns]\n",
            "\n",
            "\n",
            "Per Item RMSE (best)\n",
            "+-------------+----------------------+-------+\n",
            "| beer_beerid |         rmse         | count |\n",
            "+-------------+----------------------+-------+\n",
            "|     7096    | 0.022727272727272485 |   5   |\n",
            "+-------------+----------------------+-------+\n",
            "[1 rows x 3 columns]\n",
            "\n",
            "\n",
            "Per Item RMSE (worst)\n",
            "+-------------+-------------------+-------+\n",
            "| beer_beerid |        rmse       | count |\n",
            "+-------------+-------------------+-------+\n",
            "|    37424    | 1.658758357911371 |   5   |\n",
            "+-------------+-------------------+-------+\n",
            "[1 rows x 3 columns]\n",
            "\n"
          ],
          "name": "stdout"
        },
        {
          "output_type": "display_data",
          "data": {
            "text/html": [
              "<pre>recommendations finished on 1000/3175 queries. users per second: 11191.9</pre>"
            ],
            "text/plain": [
              "recommendations finished on 1000/3175 queries. users per second: 11191.9"
            ]
          },
          "metadata": {
            "tags": []
          }
        },
        {
          "output_type": "display_data",
          "data": {
            "text/html": [
              "<pre>recommendations finished on 2000/3175 queries. users per second: 11524.7</pre>"
            ],
            "text/plain": [
              "recommendations finished on 2000/3175 queries. users per second: 11524.7"
            ]
          },
          "metadata": {
            "tags": []
          }
        },
        {
          "output_type": "display_data",
          "data": {
            "text/html": [
              "<pre>recommendations finished on 3000/3175 queries. users per second: 10906.8</pre>"
            ],
            "text/plain": [
              "recommendations finished on 3000/3175 queries. users per second: 10906.8"
            ]
          },
          "metadata": {
            "tags": []
          }
        },
        {
          "output_type": "stream",
          "text": [
            "\n",
            "Precision and recall summary statistics by cutoff\n",
            "+--------+---------------------+----------------------+\n",
            "| cutoff |    mean_precision   |     mean_recall      |\n",
            "+--------+---------------------+----------------------+\n",
            "|   1    | 0.06519685039370075 | 0.003811428316655748 |\n",
            "|   2    | 0.06551181102362205 | 0.007345450103114716 |\n",
            "|   3    | 0.06414698162729658 | 0.010778784504311311 |\n",
            "|   4    | 0.06480314960629927 | 0.014155558524609443 |\n",
            "|   5    | 0.06399999999999997 | 0.017122182293824763 |\n",
            "|   6    | 0.06272965879265088 | 0.01989727880495041  |\n",
            "|   7    | 0.06240719910011232 | 0.022758028746670163 |\n",
            "|   8    |  0.0628740157480314 | 0.025792147821519226 |\n",
            "|   9    | 0.06103237095363094 | 0.028294756440182995 |\n",
            "|   10   | 0.05984251968503946 | 0.03076979158673956  |\n",
            "+--------+---------------------+----------------------+\n",
            "[10 rows x 3 columns]\n",
            "\n",
            "\n",
            "Overall RMSE: 3.890847912852829\n",
            "\n",
            "Per User RMSE (best)\n",
            "+--------------------+-------------------+-------+\n",
            "| review_profilename |        rmse       | count |\n",
            "+--------------------+-------------------+-------+\n",
            "|      AlexLMS       | 2.451505860643975 |   5   |\n",
            "+--------------------+-------------------+-------+\n",
            "[1 rows x 3 columns]\n",
            "\n",
            "\n",
            "Per User RMSE (worst)\n",
            "+--------------------+-------------------+-------+\n",
            "| review_profilename |        rmse       | count |\n",
            "+--------------------+-------------------+-------+\n",
            "|   Thehuntmaster    | 4.693194369078696 |   5   |\n",
            "+--------------------+-------------------+-------+\n",
            "[1 rows x 3 columns]\n",
            "\n",
            "\n",
            "Per Item RMSE (best)\n",
            "+-------------+--------------------+-------+\n",
            "| beer_beerid |        rmse        | count |\n",
            "+-------------+--------------------+-------+\n",
            "|    20638    | 1.5046751961196452 |   9   |\n",
            "+-------------+--------------------+-------+\n",
            "[1 rows x 3 columns]\n",
            "\n",
            "\n",
            "Per Item RMSE (worst)\n",
            "+-------------+--------------------+-------+\n",
            "| beer_beerid |        rmse        | count |\n",
            "+-------------+--------------------+-------+\n",
            "|    16814    | 4.6980888377024215 |   25  |\n",
            "+-------------+--------------------+-------+\n",
            "[1 rows x 3 columns]\n",
            "\n"
          ],
          "name": "stdout"
        },
        {
          "output_type": "execute_result",
          "data": {
            "text/plain": [
              "{'precision_recall_by_user': Columns:\n",
              " \treview_profilename\tstr\n",
              " \tcutoff\tint\n",
              " \tprecision\tfloat\n",
              " \trecall\tfloat\n",
              " \tcount\tint\n",
              " \n",
              " Rows: 57150\n",
              " \n",
              " Data:\n",
              " +--------------------+--------+--------------------+----------------------+-------+\n",
              " | review_profilename | cutoff |     precision      |        recall        | count |\n",
              " +--------------------+--------+--------------------+----------------------+-------+\n",
              " |       bort11       |   1    |        0.0         |         0.0          |   52  |\n",
              " |       bort11       |   2    |        0.0         |         0.0          |   52  |\n",
              " |       bort11       |   3    |        0.0         |         0.0          |   52  |\n",
              " |       bort11       |   4    |        0.0         |         0.0          |   52  |\n",
              " |       bort11       |   5    |        0.0         |         0.0          |   52  |\n",
              " |       bort11       |   6    |        0.0         |         0.0          |   52  |\n",
              " |       bort11       |   7    |        0.0         |         0.0          |   52  |\n",
              " |       bort11       |   8    |       0.125        | 0.019230769230769232 |   52  |\n",
              " |       bort11       |   9    | 0.2222222222222222 | 0.038461538461538464 |   52  |\n",
              " |       bort11       |   10   |        0.2         | 0.038461538461538464 |   52  |\n",
              " +--------------------+--------+--------------------+----------------------+-------+\n",
              " [57150 rows x 5 columns]\n",
              " Note: Only the head of the SFrame is printed.\n",
              " You can use print_rows(num_rows=m, num_columns=n) to print more rows and columns.,\n",
              " 'precision_recall_overall': Columns:\n",
              " \tcutoff\tint\n",
              " \tprecision\tfloat\n",
              " \trecall\tfloat\n",
              " \n",
              " Rows: 18\n",
              " \n",
              " Data:\n",
              " +--------+----------------------+-----------------------+\n",
              " | cutoff |      precision       |         recall        |\n",
              " +--------+----------------------+-----------------------+\n",
              " |   1    | 0.06519685039370084  | 0.0038114283166557445 |\n",
              " |   2    | 0.06551181102362218  | 0.0073454501031147085 |\n",
              " |   3    | 0.06414698162729651  |  0.010778784504311315 |\n",
              " |   4    | 0.06480314960629921  |  0.014155558524609443 |\n",
              " |   5    |        0.064         |  0.01712218229382473  |\n",
              " |   6    | 0.06272965879265086  |  0.019897278804950395 |\n",
              " |   7    | 0.062407199100112366 |  0.022758028746670135 |\n",
              " |   8    | 0.06287401574803154  |  0.02579214782151921  |\n",
              " |   9    | 0.061032370953631024 |  0.02829475644018302  |\n",
              " |   10   | 0.05984251968503939  |   0.0307697915867396  |\n",
              " +--------+----------------------+-----------------------+\n",
              " [18 rows x 3 columns]\n",
              " Note: Only the head of the SFrame is printed.\n",
              " You can use print_rows(num_rows=m, num_columns=n) to print more rows and columns.,\n",
              " 'rmse_by_item': Columns:\n",
              " \tbeer_beerid\tint\n",
              " \trmse\tfloat\n",
              " \tcount\tint\n",
              " \n",
              " Rows: 3130\n",
              " \n",
              " Data:\n",
              " +-------------+--------------------+-------+\n",
              " | beer_beerid |        rmse        | count |\n",
              " +-------------+--------------------+-------+\n",
              " |    44888    | 3.7992131935000755 |   18  |\n",
              " |    48143    | 4.067356441171999  |   9   |\n",
              " |    21538    | 3.6538307742045433 |   18  |\n",
              " |    30727    | 3.1503425577244153 |   14  |\n",
              " |     1611    | 3.5258069915756507 |   37  |\n",
              " |    25656    | 3.513069431772676  |   10  |\n",
              " |    49016    | 3.7172394882413102 |   33  |\n",
              " |     2779    | 2.860978166375943  |   21  |\n",
              " |    35404    | 4.020880687707862  |   15  |\n",
              " |    12305    | 3.810152289750555  |   8   |\n",
              " +-------------+--------------------+-------+\n",
              " [3130 rows x 3 columns]\n",
              " Note: Only the head of the SFrame is printed.\n",
              " You can use print_rows(num_rows=m, num_columns=n) to print more rows and columns.,\n",
              " 'rmse_by_user': Columns:\n",
              " \treview_profilename\tstr\n",
              " \trmse\tfloat\n",
              " \tcount\tint\n",
              " \n",
              " Rows: 3175\n",
              " \n",
              " Data:\n",
              " +--------------------+--------------------+-------+\n",
              " | review_profilename |        rmse        | count |\n",
              " +--------------------+--------------------+-------+\n",
              " |      BennyL1       | 3.670156730633009  |   8   |\n",
              " |     lester619      | 3.479236769876462  |   8   |\n",
              " |       hyuga        | 4.238254921351753  |   14  |\n",
              " |       ccrida       | 3.9057226069743316 |   85  |\n",
              " |      CoolJosh      | 3.9499391298592195 |   25  |\n",
              " |      Casey10       | 4.171534124877235  |   31  |\n",
              " |    gueuzeonhigh    | 4.212180322641931  |   21  |\n",
              " |      tbeckett      | 3.649096441165024  |   22  |\n",
              " |     neenerzig      | 4.1732301793383915 |   31  |\n",
              " |     Absumaster     | 3.6776946845438836 |   32  |\n",
              " +--------------------+--------------------+-------+\n",
              " [3175 rows x 3 columns]\n",
              " Note: Only the head of the SFrame is printed.\n",
              " You can use print_rows(num_rows=m, num_columns=n) to print more rows and columns.,\n",
              " 'rmse_overall': 3.890847912852829}"
            ]
          },
          "metadata": {
            "tags": []
          },
          "execution_count": 91
        }
      ]
    },
    {
      "cell_type": "markdown",
      "metadata": {
        "id": "is5d1q1PNSZf"
      },
      "source": [
        "**MODEL PERFORMANCE**"
      ]
    },
    {
      "cell_type": "code",
      "metadata": {
        "colab": {
          "base_uri": "https://localhost:8080/"
        },
        "id": "jT9KOzeJ-JP6",
        "outputId": "b5773211-4670-46e2-f694-b68ba3921cf7"
      },
      "source": [
        "model_performance = tc.recommender.util.compare_models=(rating_data,[model,popularity_model, item_sim_model])\n",
        "print (model_performance)"
      ],
      "execution_count": null,
      "outputs": [
        {
          "output_type": "stream",
          "text": [
            "(Columns:\n",
            "\tbeer_beerid\tint\n",
            "\treview_profilename\tstr\n",
            "\treview_overall\tfloat\n",
            "\n",
            "Rows: 185743\n",
            "\n",
            "Data:\n",
            "+-------------+--------------------+----------------+\n",
            "| beer_beerid | review_profilename | review_overall |\n",
            "+-------------+--------------------+----------------+\n",
            "|    56761    |       bort11       |      4.5       |\n",
            "|      59     |       Treebs       |      4.0       |\n",
            "|     818     |       DrJay        |      4.0       |\n",
            "|     1149    |     beerthulhu     |      4.0       |\n",
            "|      63     |      yesyouam      |      4.5       |\n",
            "|     2904    |      jcalabre      |      3.0       |\n",
            "|      74     |      becktone      |      3.5       |\n",
            "|    43335    |       WesWes       |      4.5       |\n",
            "|    25231    |   AKBelgianBeast   |      5.0       |\n",
            "|     402     |     Dodo2step      |      3.5       |\n",
            "+-------------+--------------------+----------------+\n",
            "[185743 rows x 3 columns]\n",
            "Note: Only the head of the SFrame is printed.\n",
            "You can use print_rows(num_rows=m, num_columns=n) to print more rows and columns., [Class                            : ItemSimilarityRecommender\n",
            "\n",
            "Schema\n",
            "------\n",
            "User ID                          : review_profilename\n",
            "Item ID                          : beer_beerid\n",
            "Target                           : None\n",
            "Additional observation features  : 0\n",
            "User side features               : []\n",
            "Item side features               : []\n",
            "\n",
            "Statistics\n",
            "----------\n",
            "Number of observations           : 173724\n",
            "Number of users                  : 3176\n",
            "Number of items                  : 3130\n",
            "\n",
            "Training summary\n",
            "----------------\n",
            "Training time                    : 1.5559\n",
            "\n",
            "Model Parameters\n",
            "----------------\n",
            "Model class                      : ItemSimilarityRecommender\n",
            "threshold                        : 0.001\n",
            "similarity_type                  : jaccard\n",
            "training_method                  : auto\n",
            "\n",
            "Other Settings\n",
            "--------------\n",
            "degree_approximation_threshold   : 4096\n",
            "max_data_passes                  : 4096\n",
            "max_item_neighborhood_size       : 64\n",
            "nearest_neighbors_interaction_proportion_threshold : 0.05\n",
            "seed_item_set_size               : 50\n",
            "sparse_density_estimation_sample_size : 4096\n",
            "target_memory_usage              : 8589934592\n",
            ", Class                            : PopularityRecommender\n",
            "\n",
            "Schema\n",
            "------\n",
            "User ID                          : review_profilename\n",
            "Item ID                          : beer_beerid\n",
            "Target                           : review_overall\n",
            "Additional observation features  : 0\n",
            "User side features               : []\n",
            "Item side features               : []\n",
            "\n",
            "Statistics\n",
            "----------\n",
            "Number of observations           : 173724\n",
            "Number of users                  : 3176\n",
            "Number of items                  : 3130\n",
            "\n",
            "Training summary\n",
            "----------------\n",
            "Training time                    : 0.0169\n",
            "\n",
            "Model Parameters\n",
            "----------------\n",
            "Model class                      : PopularityRecommender\n",
            ", Class                            : ItemSimilarityRecommender\n",
            "\n",
            "Schema\n",
            "------\n",
            "User ID                          : review_profilename\n",
            "Item ID                          : beer_beerid\n",
            "Target                           : review_overall\n",
            "Additional observation features  : 0\n",
            "User side features               : []\n",
            "Item side features               : []\n",
            "\n",
            "Statistics\n",
            "----------\n",
            "Number of observations           : 173724\n",
            "Number of users                  : 3176\n",
            "Number of items                  : 3130\n",
            "\n",
            "Training summary\n",
            "----------------\n",
            "Training time                    : 0.6039\n",
            "\n",
            "Model Parameters\n",
            "----------------\n",
            "Model class                      : ItemSimilarityRecommender\n",
            "threshold                        : 0.001\n",
            "similarity_type                  : cosine\n",
            "training_method                  : auto\n",
            "\n",
            "Other Settings\n",
            "--------------\n",
            "degree_approximation_threshold   : 4096\n",
            "max_data_passes                  : 4096\n",
            "max_item_neighborhood_size       : 64\n",
            "nearest_neighbors_interaction_proportion_threshold : 0.05\n",
            "seed_item_set_size               : 50\n",
            "sparse_density_estimation_sample_size : 4096\n",
            "target_memory_usage              : 8589934592\n",
            "])\n"
          ],
          "name": "stdout"
        }
      ]
    },
    {
      "cell_type": "markdown",
      "metadata": {
        "id": "rxF-cwqqQtL-"
      },
      "source": [
        "**REFERENCES**\n",
        "\n",
        "https://medium.com/towards-artificial-intelligence/recommendation-systems-104bdfe3f93f\n",
        "https://www.programmersought.com/article/53685557386/"
      ]
    }
  ]
}